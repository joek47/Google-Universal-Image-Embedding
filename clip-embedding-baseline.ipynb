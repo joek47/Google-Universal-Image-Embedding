{
 "cells": [
  {
   "cell_type": "code",
   "execution_count": 1,
   "id": "971e23d9",
   "metadata": {
    "_cell_guid": "b1076dfc-b9ad-4769-8c92-a6c4dae69d19",
    "_uuid": "8f2839f25d086af736a60e9eeb907d3b93b6e0e5",
    "execution": {
     "iopub.execute_input": "2022-09-01T16:39:03.847902Z",
     "iopub.status.busy": "2022-09-01T16:39:03.847025Z",
     "iopub.status.idle": "2022-09-01T16:39:39.365766Z",
     "shell.execute_reply": "2022-09-01T16:39:39.364380Z"
    },
    "papermill": {
     "duration": 35.527278,
     "end_time": "2022-09-01T16:39:39.368443",
     "exception": false,
     "start_time": "2022-09-01T16:39:03.841165",
     "status": "completed"
    },
    "tags": []
   },
   "outputs": [
    {
     "name": "stdout",
     "output_type": "stream",
     "text": [
      "Collecting timm\r\n",
      "  Downloading timm-0.6.7-py3-none-any.whl (509 kB)\r\n",
      "\u001b[2K     \u001b[90m━━━━━━━━━━━━━━━━━━━━━━━━━━━━━━━━━━━━━━━\u001b[0m \u001b[32m510.0/510.0 kB\u001b[0m \u001b[31m1.5 MB/s\u001b[0m eta \u001b[36m0:00:00\u001b[0m\r\n",
      "\u001b[?25hRequirement already satisfied: torch>=1.4 in /opt/conda/lib/python3.7/site-packages (from timm) (1.11.0)\r\n",
      "Requirement already satisfied: torchvision in /opt/conda/lib/python3.7/site-packages (from timm) (0.12.0)\r\n",
      "Requirement already satisfied: typing-extensions in /opt/conda/lib/python3.7/site-packages (from torch>=1.4->timm) (4.3.0)\r\n",
      "Requirement already satisfied: requests in /opt/conda/lib/python3.7/site-packages (from torchvision->timm) (2.28.1)\r\n",
      "Requirement already satisfied: numpy in /opt/conda/lib/python3.7/site-packages (from torchvision->timm) (1.21.6)\r\n",
      "Requirement already satisfied: pillow!=8.3.*,>=5.3.0 in /opt/conda/lib/python3.7/site-packages (from torchvision->timm) (9.1.1)\r\n",
      "Requirement already satisfied: certifi>=2017.4.17 in /opt/conda/lib/python3.7/site-packages (from requests->torchvision->timm) (2022.6.15)\r\n",
      "Requirement already satisfied: idna<4,>=2.5 in /opt/conda/lib/python3.7/site-packages (from requests->torchvision->timm) (3.3)\r\n",
      "Requirement already satisfied: charset-normalizer<3,>=2 in /opt/conda/lib/python3.7/site-packages (from requests->torchvision->timm) (2.1.0)\r\n",
      "Requirement already satisfied: urllib3<1.27,>=1.21.1 in /opt/conda/lib/python3.7/site-packages (from requests->torchvision->timm) (1.26.12)\r\n",
      "Installing collected packages: timm\r\n",
      "Successfully installed timm-0.6.7\r\n",
      "\u001b[33mWARNING: Running pip as the 'root' user can result in broken permissions and conflicting behaviour with the system package manager. It is recommended to use a virtual environment instead: https://pip.pypa.io/warnings/venv\u001b[0m\u001b[33m\r\n",
      "\u001b[0mCollecting ftfy\r\n",
      "  Downloading ftfy-6.1.1-py3-none-any.whl (53 kB)\r\n",
      "\u001b[2K     \u001b[90m━━━━━━━━━━━━━━━━━━━━━━━━━━━━━━━━━━━━━━━\u001b[0m \u001b[32m53.1/53.1 kB\u001b[0m \u001b[31m419.3 kB/s\u001b[0m eta \u001b[36m0:00:00\u001b[0m\r\n",
      "\u001b[?25hRequirement already satisfied: regex in /opt/conda/lib/python3.7/site-packages (2021.11.10)\r\n",
      "Requirement already satisfied: tqdm in /opt/conda/lib/python3.7/site-packages (4.64.0)\r\n",
      "Requirement already satisfied: wcwidth>=0.2.5 in /opt/conda/lib/python3.7/site-packages (from ftfy) (0.2.5)\r\n",
      "Installing collected packages: ftfy\r\n",
      "Successfully installed ftfy-6.1.1\r\n",
      "\u001b[33mWARNING: Running pip as the 'root' user can result in broken permissions and conflicting behaviour with the system package manager. It is recommended to use a virtual environment instead: https://pip.pypa.io/warnings/venv\u001b[0m\u001b[33m\r\n",
      "\u001b[0mCollecting git+https://github.com/openai/CLIP.git\r\n",
      "  Cloning https://github.com/openai/CLIP.git to /tmp/pip-req-build-mwarza1v\r\n",
      "  Running command git clone --filter=blob:none --quiet https://github.com/openai/CLIP.git /tmp/pip-req-build-mwarza1v\r\n",
      "  Resolved https://github.com/openai/CLIP.git to commit d50d76daa670286dd6cacf3bcd80b5e4823fc8e1\r\n",
      "  Preparing metadata (setup.py) ... \u001b[?25l-\b \bdone\r\n",
      "\u001b[?25hRequirement already satisfied: ftfy in /opt/conda/lib/python3.7/site-packages (from clip==1.0) (6.1.1)\r\n",
      "Requirement already satisfied: regex in /opt/conda/lib/python3.7/site-packages (from clip==1.0) (2021.11.10)\r\n",
      "Requirement already satisfied: tqdm in /opt/conda/lib/python3.7/site-packages (from clip==1.0) (4.64.0)\r\n",
      "Requirement already satisfied: torch in /opt/conda/lib/python3.7/site-packages (from clip==1.0) (1.11.0)\r\n",
      "Requirement already satisfied: torchvision in /opt/conda/lib/python3.7/site-packages (from clip==1.0) (0.12.0)\r\n",
      "Requirement already satisfied: wcwidth>=0.2.5 in /opt/conda/lib/python3.7/site-packages (from ftfy->clip==1.0) (0.2.5)\r\n",
      "Requirement already satisfied: typing-extensions in /opt/conda/lib/python3.7/site-packages (from torch->clip==1.0) (4.3.0)\r\n",
      "Requirement already satisfied: requests in /opt/conda/lib/python3.7/site-packages (from torchvision->clip==1.0) (2.28.1)\r\n",
      "Requirement already satisfied: pillow!=8.3.*,>=5.3.0 in /opt/conda/lib/python3.7/site-packages (from torchvision->clip==1.0) (9.1.1)\r\n",
      "Requirement already satisfied: numpy in /opt/conda/lib/python3.7/site-packages (from torchvision->clip==1.0) (1.21.6)\r\n",
      "Requirement already satisfied: charset-normalizer<3,>=2 in /opt/conda/lib/python3.7/site-packages (from requests->torchvision->clip==1.0) (2.1.0)\r\n",
      "Requirement already satisfied: idna<4,>=2.5 in /opt/conda/lib/python3.7/site-packages (from requests->torchvision->clip==1.0) (3.3)\r\n",
      "Requirement already satisfied: certifi>=2017.4.17 in /opt/conda/lib/python3.7/site-packages (from requests->torchvision->clip==1.0) (2022.6.15)\r\n",
      "Requirement already satisfied: urllib3<1.27,>=1.21.1 in /opt/conda/lib/python3.7/site-packages (from requests->torchvision->clip==1.0) (1.26.12)\r\n",
      "Building wheels for collected packages: clip\r\n",
      "  Building wheel for clip (setup.py) ... \u001b[?25l-\b \b\\\b \bdone\r\n",
      "\u001b[?25h  Created wheel for clip: filename=clip-1.0-py3-none-any.whl size=1369409 sha256=b2c1868c1a5deb26adab7ec8bd278fd27c2c4c514a0beff42c8be2b854be1343\r\n",
      "  Stored in directory: /tmp/pip-ephem-wheel-cache-rapq50i9/wheels/fd/b9/c3/5b4470e35ed76e174bff77c92f91da82098d5e35fd5bc8cdac\r\n",
      "Successfully built clip\r\n",
      "Installing collected packages: clip\r\n",
      "Successfully installed clip-1.0\r\n",
      "\u001b[33mWARNING: Running pip as the 'root' user can result in broken permissions and conflicting behaviour with the system package manager. It is recommended to use a virtual environment instead: https://pip.pypa.io/warnings/venv\u001b[0m\u001b[33m\r\n",
      "\u001b[0m"
     ]
    }
   ],
   "source": [
    "!pip install timm\n",
    "!pip install ftfy regex tqdm\n",
    "!pip install git+https://github.com/openai/CLIP.git"
   ]
  },
  {
   "cell_type": "code",
   "execution_count": 2,
   "id": "07e4a7c4",
   "metadata": {
    "execution": {
     "iopub.execute_input": "2022-09-01T16:39:39.379713Z",
     "iopub.status.busy": "2022-09-01T16:39:39.379376Z",
     "iopub.status.idle": "2022-09-01T16:39:42.984361Z",
     "shell.execute_reply": "2022-09-01T16:39:42.983223Z"
    },
    "papermill": {
     "duration": 3.613331,
     "end_time": "2022-09-01T16:39:42.986866",
     "exception": false,
     "start_time": "2022-09-01T16:39:39.373535",
     "status": "completed"
    },
    "tags": []
   },
   "outputs": [],
   "source": [
    "from transformers import BeitModel, BeitFeatureExtractor\n",
    "import torch.nn as nn\n",
    "import torch\n",
    "from PIL import Image\n",
    "import requests\n",
    "import timm\n",
    "from torchvision import transforms\n",
    "from timm.data import resolve_data_config\n",
    "from timm.data.transforms_factory import create_transform\n",
    "import urllib\n",
    "import os\n",
    "import numpy as np\n",
    "import clip\n",
    "from clip.clip import _download, _MODELS"
   ]
  },
  {
   "cell_type": "code",
   "execution_count": 3,
   "id": "d83974e1",
   "metadata": {
    "execution": {
     "iopub.execute_input": "2022-09-01T16:39:42.998424Z",
     "iopub.status.busy": "2022-09-01T16:39:42.997632Z",
     "iopub.status.idle": "2022-09-01T16:40:01.445266Z",
     "shell.execute_reply": "2022-09-01T16:40:01.443430Z"
    },
    "papermill": {
     "duration": 18.459186,
     "end_time": "2022-09-01T16:40:01.450898",
     "exception": false,
     "start_time": "2022-09-01T16:39:42.991712",
     "status": "completed"
    },
    "tags": []
   },
   "outputs": [
    {
     "name": "stderr",
     "output_type": "stream",
     "text": [
      "100%|████████████████████████████████████████| 891M/891M [00:08<00:00, 108MiB/s]\n"
     ]
    }
   ],
   "source": [
    "model_path = _download(_MODELS['ViT-L/14@336px'], os.path.expanduser(\"~/.cache/clip\"))\n",
    "with open(model_path, 'rb') as opened_file:\n",
    "    clip_vit_l14_336 = torch.jit.load(opened_file, map_location=\"cuda\").visual.eval()"
   ]
  },
  {
   "cell_type": "code",
   "execution_count": 4,
   "id": "f28766f9",
   "metadata": {
    "execution": {
     "iopub.execute_input": "2022-09-01T16:40:01.508085Z",
     "iopub.status.busy": "2022-09-01T16:40:01.507468Z",
     "iopub.status.idle": "2022-09-01T16:40:01.525832Z",
     "shell.execute_reply": "2022-09-01T16:40:01.524586Z"
    },
    "papermill": {
     "duration": 0.050797,
     "end_time": "2022-09-01T16:40:01.529799",
     "exception": false,
     "start_time": "2022-09-01T16:40:01.479002",
     "status": "completed"
    },
    "tags": []
   },
   "outputs": [],
   "source": [
    "class CLIP_Encoder(nn.Module):\n",
    "    def __init__(self):\n",
    "        super().__init__()\n",
    "        self.backbone_clip = clip_vit_l14_336\n",
    "#         self.resize = transforms.Resize(size=(248, 248), interpolation=transforms.InterpolationMode.BICUBIC, max_size=None, antialias=None)\n",
    "#         self.crop = transforms.CenterCrop(size=(224, 224))\n",
    "#         self.normilize = transforms.Normalize(mean=[0.5000, 0.5000, 0.5000], std=[0.5000, 0.5000, 0.5000])\n",
    "        self.avgpool1d = nn.AdaptiveAvgPool1d(64)\n",
    "        \n",
    "    def forward(self, x):\n",
    "        x = transforms.functional.resize(x,size=[336, 336])\n",
    "        x = x/255.0\n",
    "        x = transforms.functional.normalize(x, mean=[0.48145466, 0.4578275, 0.40821073], std=[0.26862954, 0.26130258, 0.27577711])\n",
    "        x = self.backbone_clip(x.half())\n",
    "        x = self.avgpool1d(x)\n",
    "#         embedding = torch.nn.functional.normalize(embedding, p=2.0, dim = 1)\n",
    "        return x"
   ]
  },
  {
   "cell_type": "code",
   "execution_count": 5,
   "id": "a462cd11",
   "metadata": {
    "execution": {
     "iopub.execute_input": "2022-09-01T16:40:01.585992Z",
     "iopub.status.busy": "2022-09-01T16:40:01.585493Z",
     "iopub.status.idle": "2022-09-01T16:40:01.613110Z",
     "shell.execute_reply": "2022-09-01T16:40:01.611653Z"
    },
    "papermill": {
     "duration": 0.060214,
     "end_time": "2022-09-01T16:40:01.617197",
     "exception": false,
     "start_time": "2022-09-01T16:40:01.556983",
     "status": "completed"
    },
    "tags": []
   },
   "outputs": [],
   "source": [
    "model = CLIP_Encoder().to('cuda').eval()"
   ]
  },
  {
   "cell_type": "code",
   "execution_count": 6,
   "id": "f61b7121",
   "metadata": {
    "execution": {
     "iopub.execute_input": "2022-09-01T16:40:01.665006Z",
     "iopub.status.busy": "2022-09-01T16:40:01.664277Z",
     "iopub.status.idle": "2022-09-01T16:40:08.614374Z",
     "shell.execute_reply": "2022-09-01T16:40:08.613126Z"
    },
    "papermill": {
     "duration": 6.971982,
     "end_time": "2022-09-01T16:40:08.617046",
     "exception": false,
     "start_time": "2022-09-01T16:40:01.645064",
     "status": "completed"
    },
    "tags": []
   },
   "outputs": [
    {
     "name": "stdout",
     "output_type": "stream",
     "text": [
      "(640, 480)\n",
      "(64,)\n"
     ]
    },
    {
     "name": "stderr",
     "output_type": "stream",
     "text": [
      "/opt/conda/lib/python3.7/site-packages/torch/nn/modules/module.py:1110: UserWarning: floor_divide is deprecated, and will be removed in a future version of pytorch. It currently rounds toward 0 (like the 'trunc' function NOT 'floor'). This results in incorrect rounding for negative values.\n",
      "To keep the current behavior, use torch.div(a, b, rounding_mode='trunc'), or for actual floor division, use torch.div(a, b, rounding_mode='floor'). (Triggered internally at  /usr/local/src/pytorch/aten/src/ATen/native/BinaryOps.cpp:601.)\n",
      "  return forward_call(*input, **kwargs)\n"
     ]
    }
   ],
   "source": [
    "url, filename = (\"http://images.cocodataset.org/val2017/000000039769.jpg\", \"000000039769.jpg\")\n",
    "urllib.request.urlretrieve(url, filename)\n",
    "img = Image.open(filename).convert('RGB')\n",
    "convert_to_tensor = transforms.Compose([transforms.PILToTensor()])\n",
    "input_tensor = convert_to_tensor(img)\n",
    "input_batch = input_tensor.unsqueeze(0)\n",
    "print(img.size)\n",
    "with torch.no_grad():\n",
    "    embedding = torch.flatten(model(input_batch.cuda())[0]).cpu().data.numpy()\n",
    "print(embedding.shape)"
   ]
  },
  {
   "cell_type": "code",
   "execution_count": 7,
   "id": "96ec501c",
   "metadata": {
    "execution": {
     "iopub.execute_input": "2022-09-01T16:40:08.636997Z",
     "iopub.status.busy": "2022-09-01T16:40:08.636686Z",
     "iopub.status.idle": "2022-09-01T16:40:08.645415Z",
     "shell.execute_reply": "2022-09-01T16:40:08.644466Z"
    },
    "papermill": {
     "duration": 0.020788,
     "end_time": "2022-09-01T16:40:08.647308",
     "exception": false,
     "start_time": "2022-09-01T16:40:08.626520",
     "status": "completed"
    },
    "tags": []
   },
   "outputs": [
    {
     "data": {
      "text/plain": [
       "1.5544198347312401"
      ]
     },
     "execution_count": 7,
     "metadata": {},
     "output_type": "execute_result"
    }
   ],
   "source": [
    "np.sqrt(sum([x*x for x in embedding]))\n",
    "# 3.195444323984148\n",
    "# 1.000000004405024"
   ]
  },
  {
   "cell_type": "code",
   "execution_count": 8,
   "id": "f84d75f8",
   "metadata": {
    "execution": {
     "iopub.execute_input": "2022-09-01T16:40:08.668156Z",
     "iopub.status.busy": "2022-09-01T16:40:08.667292Z",
     "iopub.status.idle": "2022-09-01T16:40:09.929111Z",
     "shell.execute_reply": "2022-09-01T16:40:09.927926Z"
    },
    "papermill": {
     "duration": 1.274862,
     "end_time": "2022-09-01T16:40:09.932101",
     "exception": false,
     "start_time": "2022-09-01T16:40:08.657239",
     "status": "completed"
    },
    "tags": []
   },
   "outputs": [],
   "source": [
    "saved_model = torch.jit.script(model)\n",
    "saved_model.save('saved_model.pt')"
   ]
  },
  {
   "cell_type": "code",
   "execution_count": 9,
   "id": "9052745b",
   "metadata": {
    "execution": {
     "iopub.execute_input": "2022-09-01T16:40:09.952958Z",
     "iopub.status.busy": "2022-09-01T16:40:09.952019Z",
     "iopub.status.idle": "2022-09-01T16:40:10.784724Z",
     "shell.execute_reply": "2022-09-01T16:40:10.783159Z"
    },
    "papermill": {
     "duration": 0.845498,
     "end_time": "2022-09-01T16:40:10.786818",
     "exception": false,
     "start_time": "2022-09-01T16:40:09.941320",
     "status": "completed"
    },
    "tags": []
   },
   "outputs": [
    {
     "name": "stdout",
     "output_type": "stream",
     "text": [
      "(640, 480)\n",
      "(64,)\n"
     ]
    }
   ],
   "source": [
    "url, filename = (\"http://images.cocodataset.org/val2017/000000039769.jpg\", \"000000039769.jpg\")\n",
    "urllib.request.urlretrieve(url, filename)\n",
    "img = Image.open(filename).convert('RGB')\n",
    "convert_to_tensor = transforms.Compose([transforms.PILToTensor()])\n",
    "input_tensor = convert_to_tensor(img)\n",
    "input_batch = input_tensor.unsqueeze(0)\n",
    "print(img.size)\n",
    "with torch.no_grad():\n",
    "    embedding = torch.flatten(saved_model(input_batch.cuda())[0]).cpu().data.numpy()\n",
    "print(embedding.shape)"
   ]
  },
  {
   "cell_type": "code",
   "execution_count": 10,
   "id": "fe24f218",
   "metadata": {
    "execution": {
     "iopub.execute_input": "2022-09-01T16:40:10.806889Z",
     "iopub.status.busy": "2022-09-01T16:40:10.806056Z",
     "iopub.status.idle": "2022-09-01T16:40:10.813478Z",
     "shell.execute_reply": "2022-09-01T16:40:10.812252Z"
    },
    "papermill": {
     "duration": 0.019696,
     "end_time": "2022-09-01T16:40:10.815682",
     "exception": false,
     "start_time": "2022-09-01T16:40:10.795986",
     "status": "completed"
    },
    "tags": []
   },
   "outputs": [
    {
     "data": {
      "text/plain": [
       "1.5544198347312401"
      ]
     },
     "execution_count": 10,
     "metadata": {},
     "output_type": "execute_result"
    }
   ],
   "source": [
    "np.sqrt(sum([x*x for x in embedding]))"
   ]
  },
  {
   "cell_type": "code",
   "execution_count": 11,
   "id": "98f15cb6",
   "metadata": {
    "execution": {
     "iopub.execute_input": "2022-09-01T16:40:10.836452Z",
     "iopub.status.busy": "2022-09-01T16:40:10.834879Z",
     "iopub.status.idle": "2022-09-01T16:40:12.355749Z",
     "shell.execute_reply": "2022-09-01T16:40:12.354708Z"
    },
    "papermill": {
     "duration": 1.53329,
     "end_time": "2022-09-01T16:40:12.358241",
     "exception": false,
     "start_time": "2022-09-01T16:40:10.824951",
     "status": "completed"
    },
    "tags": []
   },
   "outputs": [],
   "source": [
    "from zipfile import ZipFile\n",
    "with ZipFile('submission.zip', 'w') as zip:\n",
    "    zip.write('./saved_model.pt', arcname='saved_model.pt')"
   ]
  },
  {
   "cell_type": "code",
   "execution_count": null,
   "id": "236147b5",
   "metadata": {
    "papermill": {
     "duration": 0.010727,
     "end_time": "2022-09-01T16:40:12.378477",
     "exception": false,
     "start_time": "2022-09-01T16:40:12.367750",
     "status": "completed"
    },
    "tags": []
   },
   "outputs": [],
   "source": []
  }
 ],
 "metadata": {
  "kernelspec": {
   "display_name": "Python 3",
   "language": "python",
   "name": "python3"
  },
  "language_info": {
   "codemirror_mode": {
    "name": "ipython",
    "version": 3
   },
   "file_extension": ".py",
   "mimetype": "text/x-python",
   "name": "python",
   "nbconvert_exporter": "python",
   "pygments_lexer": "ipython3",
   "version": "3.7.12"
  },
  "papermill": {
   "default_parameters": {},
   "duration": 78.30731,
   "end_time": "2022-09-01T16:40:14.616716",
   "environment_variables": {},
   "exception": null,
   "input_path": "__notebook__.ipynb",
   "output_path": "__notebook__.ipynb",
   "parameters": {},
   "start_time": "2022-09-01T16:38:56.309406",
   "version": "2.3.4"
  }
 },
 "nbformat": 4,
 "nbformat_minor": 5
}
