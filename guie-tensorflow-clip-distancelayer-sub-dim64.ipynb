{
 "cells": [
  {
   "cell_type": "markdown",
   "id": "f3b85c31",
   "metadata": {
    "papermill": {
     "duration": 0.010599,
     "end_time": "2022-09-26T01:45:31.630599",
     "exception": false,
     "start_time": "2022-09-26T01:45:31.620000",
     "status": "completed"
    },
    "tags": []
   },
   "source": [
    "## Notebooks\n",
    "- [training notebook](https://www.kaggle.com/code/motono0223/guie-tensorflow-clip-distancelayer-train-dim64)  \n",
    " To speed up for training model, the distance layer and technique of spliting model were applied.   \n",
    " \n",
    "- submission notebook : this notebook"
   ]
  },
  {
   "cell_type": "code",
   "execution_count": 1,
   "id": "62866933",
   "metadata": {
    "execution": {
     "iopub.execute_input": "2022-09-26T01:45:31.740643Z",
     "iopub.status.busy": "2022-09-26T01:45:31.739668Z",
     "iopub.status.idle": "2022-09-26T01:46:22.225383Z",
     "shell.execute_reply": "2022-09-26T01:46:22.224753Z",
     "shell.execute_reply.started": "2022-09-26T01:38:19.905377Z"
    },
    "id": "i72153AaDJds",
    "outputId": "c39a6545-76c8-48e8-ca67-24936076489f",
    "papermill": {
     "duration": 50.585137,
     "end_time": "2022-09-26T01:46:22.225541",
     "exception": false,
     "start_time": "2022-09-26T01:45:31.640404",
     "status": "completed"
    },
    "tags": []
   },
   "outputs": [
    {
     "name": "stdout",
     "output_type": "stream",
     "text": [
      "\u001b[31mERROR: pip's dependency resolver does not currently take into account all the packages that are installed. This behaviour is the source of the following dependency conflicts.\r\n",
      "datasets 1.12.1 requires huggingface-hub<0.1.0,>=0.0.14, but you have huggingface-hub 0.9.1 which is incompatible.\r\n",
      "allennlp 2.7.0 requires transformers<4.10,>=4.1, but you have transformers 4.22.0.dev0 which is incompatible.\u001b[0m\r\n",
      "\u001b[33mWARNING: Running pip as the 'root' user can result in broken permissions and conflicting behaviour with the system package manager. It is recommended to use a virtual environment instead: https://pip.pypa.io/warnings/venv\u001b[0m\r\n"
     ]
    },
    {
     "name": "stderr",
     "output_type": "stream",
     "text": [
      "The cache for model files in Transformers v4.22.0 has been updated. Migrating your old cache. This is a one-time only operation. You can interrupt this and resume the migration later on by calling `transformers.utils.move_cache()`.\n"
     ]
    },
    {
     "name": "stdout",
     "output_type": "stream",
     "text": [
      "Moving 0 files to the new cache system\n"
     ]
    },
    {
     "data": {
      "application/vnd.jupyter.widget-view+json": {
       "model_id": "032ce2676fb24facb71946e577e4e777",
       "version_major": 2,
       "version_minor": 0
      },
      "text/plain": [
       "0it [00:00, ?it/s]"
      ]
     },
     "metadata": {},
     "output_type": "display_data"
    },
    {
     "name": "stderr",
     "output_type": "stream",
     "text": [
      "2022-09-26 01:46:12.301080: I tensorflow/stream_executor/platform/default/dso_loader.cc:49] Successfully opened dynamic library libcudart.so.11.0\n"
     ]
    }
   ],
   "source": [
    "!pip install git+https://github.com/innat/transformers -U -q > /dev/null\n",
    "from transformers import CLIPProcessor, TFCLIPVisionModel, CLIPFeatureExtractor\n",
    "\n",
    "from kaggle_datasets import KaggleDatasets\n",
    "\n",
    "import re\n",
    "import os\n",
    "import glob\n",
    "import numpy as np\n",
    "import pandas as pd\n",
    "import random\n",
    "import math\n",
    "import tensorflow as tf\n",
    "from tensorflow import keras\n",
    "from tensorflow.keras import layers\n",
    "from sklearn import metrics\n",
    "from sklearn.model_selection import KFold, train_test_split, StratifiedKFold\n",
    "from tensorflow.keras import backend as K\n",
    "\n",
    "import tensorflow_addons as tfa\n",
    "from tqdm.auto import tqdm\n",
    "import matplotlib.pyplot as plt\n",
    "from sklearn.preprocessing import normalize\n",
    "import pickle\n",
    "import json\n",
    "import tensorflow_hub as tfhub\n",
    "from datetime import datetime\n",
    "import gc\n",
    "from zipfile import ZipFile\n",
    "from PIL import Image\n",
    "import requests\n",
    "\n",
    "from mpl_toolkits import axes_grid1\n",
    "\n",
    "from tensorflow.keras.utils import plot_model\n",
    "\n",
    "import os\n",
    "def is_colab_env():\n",
    "    is_colab = False\n",
    "    for k in os.environ.keys():\n",
    "      if \"COLAB\" in k:\n",
    "          is_colab = True\n",
    "          break\n",
    "    return is_colab"
   ]
  },
  {
   "cell_type": "code",
   "execution_count": 2,
   "id": "4f5845f2",
   "metadata": {
    "execution": {
     "iopub.execute_input": "2022-09-26T01:46:22.252833Z",
     "iopub.status.busy": "2022-09-26T01:46:22.252201Z",
     "iopub.status.idle": "2022-09-26T01:46:22.261015Z",
     "shell.execute_reply": "2022-09-26T01:46:22.261585Z",
     "shell.execute_reply.started": "2022-09-26T01:39:10.381295Z"
    },
    "id": "khrTPhLcR39a",
    "outputId": "93471665-1cd5-4afd-dcfd-f56b7ab28bd5",
    "papermill": {
     "duration": 0.0252,
     "end_time": "2022-09-26T01:46:22.261749",
     "exception": false,
     "start_time": "2022-09-26T01:46:22.236549",
     "status": "completed"
    },
    "tags": []
   },
   "outputs": [
    {
     "name": "stdout",
     "output_type": "stream",
     "text": [
      "REPLICAS:  1\n"
     ]
    }
   ],
   "source": [
    "import tensorflow as tf\n",
    "try:\n",
    "    # TPU detection. No parameters necessary if TPU_NAME environment variable is\n",
    "    # set: this is always the case on Kaggle.\n",
    "    tpu = tf.distribute.cluster_resolver.TPUClusterResolver()\n",
    "    print('Running on TPU ', tpu.master())\n",
    "except ValueError:\n",
    "    tpu = None\n",
    "\n",
    "if tpu:\n",
    "    tf.config.experimental_connect_to_cluster(tpu)\n",
    "    tf.tpu.experimental.initialize_tpu_system(tpu)\n",
    "    strategy = tf.distribute.TPUStrategy(tpu)\n",
    "else:\n",
    "    # Default distribution strategy in Tensorflow. Works on CPU and single GPU.\n",
    "    strategy = tf.distribute.get_strategy()\n",
    "\n",
    "AUTO = tf.data.experimental.AUTOTUNE\n",
    "print(\"REPLICAS: \", strategy.num_replicas_in_sync)"
   ]
  },
  {
   "cell_type": "code",
   "execution_count": 3,
   "id": "99de7e3f",
   "metadata": {
    "execution": {
     "iopub.execute_input": "2022-09-26T01:46:22.292207Z",
     "iopub.status.busy": "2022-09-26T01:46:22.291505Z",
     "iopub.status.idle": "2022-09-26T01:46:22.294176Z",
     "shell.execute_reply": "2022-09-26T01:46:22.294574Z",
     "shell.execute_reply.started": "2022-09-26T01:39:10.397164Z"
    },
    "id": "lCwQB_L1NGoH",
    "outputId": "a5749c02-a1d9-4297-f72b-a95c327b4561",
    "papermill": {
     "duration": 0.021693,
     "end_time": "2022-09-26T01:46:22.294696",
     "exception": false,
     "start_time": "2022-09-26T01:46:22.273003",
     "status": "completed"
    },
    "tags": []
   },
   "outputs": [
    {
     "name": "stdout",
     "output_type": "stream",
     "text": [
      "clip-vit-large-patch14\n"
     ]
    }
   ],
   "source": [
    "class config:\n",
    "    VERSION = 60\n",
    "\n",
    "    SEED = 42\n",
    "    RESUME = True\n",
    "    RESUME_EPOCH = 0\n",
    "    RESUME_WEIGHT = \"../input/guie-tensorflow-clip-distancelayer-train-dim64/clip-vit-large-patch14_224pix-emb64_loss.h5\"\n",
    "\n",
    "    model_type = \"clip-vit-large-patch14\"\n",
    "    EFF_SIZE = 0\n",
    "    EFF2_TYPE = \"\"\n",
    "\n",
    "    IMAGE_SIZE = 224\n",
    "    BATCH_SIZE_INFER = 16 * strategy.num_replicas_in_sync\n",
    "    BATCH_SIZE_TRAIN = 100 * strategy.num_replicas_in_sync\n",
    "    N_CLASSES = 9691\n",
    "    EMB_DIM = 64\n",
    "    EPOCHS = 200\n",
    "    LR = 0.001\n",
    "\n",
    "    save_dir = \"./\"\n",
    "\n",
    "    TRAIN = False\n",
    "    DEBUG = False\n",
    "    \n",
    "    TTA = 1\n",
    "\n",
    "\n",
    "# Function to seed everything\n",
    "def seed_everything(seed):\n",
    "    random.seed(seed)\n",
    "    np.random.seed(seed)\n",
    "    os.environ['PYTHONHASHSEED'] = str(seed)\n",
    "    tf.random.set_seed(seed)\n",
    "seed_everything(config.SEED)\n",
    "\n",
    "MODEL_NAME = None\n",
    "if config.model_type == 'effnetv1':\n",
    "    MODEL_NAME = f'effnetv1_b{config.EFF_SIZE}'\n",
    "elif config.model_type == 'effnetv2':\n",
    "    MODEL_NAME = f'effnetv2_{config.EFF2_TYPE}'\n",
    "elif \"swin\" in config.model_type:\n",
    "    MODEL_NAME = config.model_type\n",
    "elif \"conv\" in config.model_type:\n",
    "    MODEL_NAME = config.model_type\n",
    "else:\n",
    "    MODEL_NAME = config.model_type\n",
    "\n",
    "config.MODEL_NAME = MODEL_NAME\n",
    "print(MODEL_NAME)"
   ]
  },
  {
   "cell_type": "markdown",
   "id": "dbab7978",
   "metadata": {
    "id": "dOPX4LshNXsM",
    "papermill": {
     "duration": 0.011029,
     "end_time": "2022-09-26T01:46:22.316625",
     "exception": false,
     "start_time": "2022-09-26T01:46:22.305596",
     "status": "completed"
    },
    "tags": []
   },
   "source": [
    "# Model"
   ]
  },
  {
   "cell_type": "markdown",
   "id": "ddf770b7",
   "metadata": {
    "papermill": {
     "duration": 0.011007,
     "end_time": "2022-09-26T01:46:22.338613",
     "exception": false,
     "start_time": "2022-09-26T01:46:22.327606",
     "status": "completed"
    },
    "tags": []
   },
   "source": [
    "## Distance Margin Layer\n",
    "This notebook uses distance margin layer instead of the ArcFace Layer.  \n",
    "  \n",
    "With ArcFace, the embedding vectors are distributed over the surface of an N-dimensional sphere.   \n",
    "This is because ArcFaceLayer outputs the inner product of its own weight matrix and embedding vector to the next Softmax layer.   \n",
    "Although this embedding vector is easy to work with, it is not a very efficient use of the embedding vector space.  \n",
    "\n",
    "So I introduce a distance margin layer.   \n",
    "This outputs the inverse squared Euclidean distance in the next Softmax layer, not the inner product.  \n",
    "![DistanceMarginLayer](https://github.com/motono0223/kaggle_public/blob/main/2022_guie/GUIE_DistanceLayer.png?raw=true)"
   ]
  },
  {
   "cell_type": "code",
   "execution_count": 4,
   "id": "ad010a1f",
   "metadata": {
    "execution": {
     "iopub.execute_input": "2022-09-26T01:46:22.373615Z",
     "iopub.status.busy": "2022-09-26T01:46:22.365639Z",
     "iopub.status.idle": "2022-09-26T01:46:22.376144Z",
     "shell.execute_reply": "2022-09-26T01:46:22.375670Z",
     "shell.execute_reply.started": "2022-09-26T01:39:10.409629Z"
    },
    "id": "SuwssBrY7qaU",
    "papermill": {
     "duration": 0.024959,
     "end_time": "2022-09-26T01:46:22.376259",
     "exception": false,
     "start_time": "2022-09-26T01:46:22.351300",
     "status": "completed"
    },
    "tags": []
   },
   "outputs": [],
   "source": [
    "class DistanceMarginLayer(tf.keras.layers.Layer):\n",
    "    def __init__(self, n_classes, s=30, m=0.10, easy_margin=False,\n",
    "                 ls_eps=0.0, sgm=1.0, **kwargs):\n",
    "\n",
    "        super(DistanceMarginLayer, self).__init__(**kwargs)\n",
    "\n",
    "        self.n_classes = n_classes\n",
    "        self.s = s\n",
    "        self.m = m\n",
    "        self.ls_eps = ls_eps\n",
    "        self.easy_margin = easy_margin\n",
    "        self.sgm = sgm\n",
    "\n",
    "    def get_config(self):\n",
    "\n",
    "        config = super().get_config().copy()\n",
    "        config.update({\n",
    "            'n_classes': self.n_classes,\n",
    "            's': self.s,\n",
    "            'm': self.m,\n",
    "            'ls_eps': self.ls_eps,\n",
    "            'easy_margin': self.easy_margin,\n",
    "        })\n",
    "        return config\n",
    "\n",
    "    def build(self, input_shape):\n",
    "        super(DistanceMarginLayer, self).build(input_shape[0])\n",
    "\n",
    "        self.W = self.add_weight(\n",
    "            name='W',\n",
    "            shape=(int(input_shape[0][-1]), self.n_classes),\n",
    "            initializer='glorot_uniform',\n",
    "            dtype='float32',\n",
    "            trainable=True,\n",
    "            regularizer=None)\n",
    "\n",
    "    def call(self, inputs):\n",
    "        X, y = inputs\n",
    "        y = tf.cast(y, dtype=tf.int32)\n",
    "        \n",
    "        W2 = self.W \n",
    "\n",
    "        X2 = tf.tile(tf.expand_dims(X, 2), [1, 1, self.W.shape[1] ])  # X.shape=[Batch, EmbDim], X2.shape=[Batch, EmbDim, NumClass]\n",
    "\n",
    "        # distance on the N-Dimentional coordinate\n",
    "        dx = tf.math.sqrt( tf.reduce_sum( tf.math.pow( X2 - W2, 2 ), axis=1) ) # dx.shape=[Batch, NumClass]\n",
    "\n",
    "        dx = tf.clip_by_value( dx    , 0.00001, 50.0)\n",
    "        output1 = self.s / tf.math.pow( dx, 2 )\n",
    "        output2 = self.s / tf.math.pow( dx, 2 ) + self.m\n",
    "\n",
    "        one_hot = tf.cast(\n",
    "            tf.one_hot(y, depth=self.n_classes),\n",
    "            dtype=dx.dtype\n",
    "        )\n",
    "\n",
    "        output = (one_hot * output1) + ((1.0 - one_hot) * output2)\n",
    "\n",
    "        return output"
   ]
  },
  {
   "cell_type": "code",
   "execution_count": 5,
   "id": "6529d160",
   "metadata": {
    "execution": {
     "iopub.execute_input": "2022-09-26T01:46:22.415968Z",
     "iopub.status.busy": "2022-09-26T01:46:22.414342Z",
     "iopub.status.idle": "2022-09-26T01:46:22.416596Z",
     "shell.execute_reply": "2022-09-26T01:46:22.417033Z",
     "shell.execute_reply.started": "2022-09-26T01:39:10.425728Z"
    },
    "id": "jX76WJYoMgey",
    "papermill": {
     "duration": 0.029882,
     "end_time": "2022-09-26T01:46:22.417184",
     "exception": false,
     "start_time": "2022-09-26T01:46:22.387302",
     "status": "completed"
    },
    "tags": []
   },
   "outputs": [],
   "source": [
    "def get_scale_layer(rescale_mode = \"tf\"):\n",
    "    # For keras_cv_attention_models module:\n",
    "    # ref: https://github.com/leondgarse/keras_cv_attention_models/blob/main/keras_cv_attention_models/imagenet/data.py\n",
    "    # ref function : init_mean_std_by_rescale_mode()\n",
    "\n",
    "    # For effV2 (21k classes) : https://github.com/leondgarse/keras_efficientnet_v2\n",
    "\n",
    "    if isinstance(rescale_mode, (list, tuple)):  # Specific mean and std\n",
    "        mean, std = rescale_mode\n",
    "    elif rescale_mode == \"torch\":\n",
    "        mean = np.array([0.485, 0.456, 0.406]) * 255.0\n",
    "        std = np.array([0.229, 0.224, 0.225]) * 255.0\n",
    "    elif rescale_mode == \"tf\":  # [0, 255] -> [-1, 1]\n",
    "        mean, std = 127.5, 127.5\n",
    "    elif rescale_mode == \"tf128\":  # [0, 255] -> [-1, 1]\n",
    "        mean, std = 128.0, 128.0\n",
    "    elif rescale_mode == \"raw01\":\n",
    "        mean, std = 0, 255.0  # [0, 255] -> [0, 1]\n",
    "    else:\n",
    "        mean, std = 0, 1  # raw inputs [0, 255]        \n",
    "    scaling_layer = keras.layers.Lambda(lambda x: ( tf.cast(x, tf.float32) - mean) / std )\n",
    "    \n",
    "    return scaling_layer\n",
    "\n",
    "def get_clip_model():\n",
    "    inp = tf.keras.layers.Input(shape = [3, config.IMAGE_SIZE, config.IMAGE_SIZE])\n",
    "#    backbone = TFCLIPVisionModel.from_pretrained(\"openai/clip-vit-base-patch32\")\n",
    "    backbone = TFCLIPVisionModel.from_pretrained(\"openai/clip-vit-large-patch14\")\n",
    "    output = backbone({'pixel_values':inp}).pooler_output\n",
    "    return tf.keras.Model(inputs=[inp], outputs=[output])\n",
    "\n",
    "def get_embedding_model(frozen=True):\n",
    "    #------------------\n",
    "    # Definition of placeholders\n",
    "    inp = tf.keras.layers.Input(shape = [None, None, 3], name = 'inp1')\n",
    "    label = tf.keras.layers.Input(shape = (), name = 'inp2')\n",
    "\n",
    "    # Definition of layers\n",
    "    layer_resize = tf.keras.layers.Lambda(lambda x: tf.image.resize(x, [config.IMAGE_SIZE, config.IMAGE_SIZE]), name='resize')\n",
    "    layer_scaling = get_scale_layer(rescale_mode = \"torch\")\n",
    "    layer_permute = tf.keras.layers.Permute((3,1,2))\n",
    "    layer_backbone = get_clip_model()\n",
    "    if frozen:\n",
    "        layer_backbone.trainable = False\n",
    "    #layer_gap = tf.keras.layers.GlobalAveragePooling2D()\n",
    "    layer_dropout = tf.keras.layers.Dropout(0.2)\n",
    "    layer_dense_before_arcface = tf.keras.layers.Dense(config.EMB_DIM)\n",
    "    layer_margin = DistanceMarginLayer(\n",
    "        n_classes = config.N_CLASSES, \n",
    "        s = 30, \n",
    "        m = 0.3,\n",
    "        name=f'head/distancemargin', \n",
    "        dtype='float32'\n",
    "        )\n",
    "    layer_softmax = tf.keras.layers.Softmax(dtype='float32')\n",
    "    if config.EMB_DIM != 64:\n",
    "        layer_adaptive_pooling = tfa.layers.AdaptiveAveragePooling1D(64)\n",
    "    else:\n",
    "        layer_adaptive_pooling = tf.keras.layers.Lambda(lambda x: x ) # no operation\n",
    "        \n",
    "\n",
    "    #------------------\n",
    "    # Definition of entire model \n",
    "    image = layer_scaling(inp)\n",
    "    image = layer_resize(image)\n",
    "    image = layer_permute(image)\n",
    "    backbone_output = layer_backbone(image)\n",
    "    embed = layer_dropout(backbone_output)\n",
    "    embed = layer_dense_before_arcface(embed)\n",
    "    x = layer_margin([embed, label])\n",
    "    output = layer_softmax(x)\n",
    "    model = tf.keras.models.Model(inputs = [inp, label], outputs = [output]) # whole architecture\n",
    "\n",
    "    #------------------\n",
    "    # Definition of embedding model (for submission)\n",
    "    embed_model = keras.Sequential([\n",
    "        keras.layers.InputLayer(input_shape=(None, None, 3), dtype='uint8'),\n",
    "        layer_scaling,\n",
    "        layer_resize,\n",
    "        layer_permute,\n",
    "        layer_backbone,\n",
    "        layer_dropout,\n",
    "        layer_dense_before_arcface,\n",
    "        layer_adaptive_pooling,\n",
    "        tf.keras.layers.Lambda(lambda x: x, name='embedding_norm'), # dummy layer (the layer named with \"embedding_norm\" is required for submission)\n",
    "    ])\n",
    "    \n",
    "    #------------------\n",
    "    # Definition of backbone model (to obtain training data)\n",
    "    backbone_model = tf.keras.models.Model(inputs = [inp, label], outputs = [backbone_output, label])  \n",
    "\n",
    "    #------------------\n",
    "    # Definition of projection Model (to train projection layers)\n",
    "    inp_proj = tf.keras.layers.Input(shape = [backbone_output.shape[-1]], name = 'inp_proj')\n",
    "    x = layer_dropout(inp_proj)\n",
    "    x = layer_dense_before_arcface(x)\n",
    "    x = layer_margin([x, label])\n",
    "    output = layer_softmax(x)\n",
    "    projection_model = tf.keras.models.Model(inputs = [inp_proj, label], outputs = [output])\n",
    "\n",
    "    # Note: These 4 models share the same weights each other.\n",
    "    return model, embed_model, backbone_model, projection_model"
   ]
  },
  {
   "cell_type": "code",
   "execution_count": 6,
   "id": "1384881c",
   "metadata": {
    "execution": {
     "iopub.execute_input": "2022-09-26T01:46:22.444646Z",
     "iopub.status.busy": "2022-09-26T01:46:22.444140Z",
     "iopub.status.idle": "2022-09-26T01:47:38.635917Z",
     "shell.execute_reply": "2022-09-26T01:47:38.636499Z",
     "shell.execute_reply.started": "2022-09-26T01:39:10.445122Z"
    },
    "id": "5nGM8XncMglt",
    "outputId": "7c953aff-7330-452b-cf0a-72d6603c5b88",
    "papermill": {
     "duration": 76.208485,
     "end_time": "2022-09-26T01:47:38.636723",
     "exception": false,
     "start_time": "2022-09-26T01:46:22.428238",
     "status": "completed"
    },
    "tags": []
   },
   "outputs": [
    {
     "data": {
      "application/vnd.jupyter.widget-view+json": {
       "model_id": "d081e2ff3052439696cbd25f55e8627c",
       "version_major": 2,
       "version_minor": 0
      },
      "text/plain": [
       "Downloading:   0%|          | 0.00/4.52k [00:00<?, ?B/s]"
      ]
     },
     "metadata": {},
     "output_type": "display_data"
    },
    {
     "data": {
      "application/vnd.jupyter.widget-view+json": {
       "model_id": "64edff8a071a4615ad13bda5a1df7cbc",
       "version_major": 2,
       "version_minor": 0
      },
      "text/plain": [
       "Downloading:   0%|          | 0.00/1.71G [00:00<?, ?B/s]"
      ]
     },
     "metadata": {},
     "output_type": "display_data"
    },
    {
     "name": "stderr",
     "output_type": "stream",
     "text": [
      "2022-09-26 01:47:06.791672: I tensorflow/compiler/jit/xla_cpu_device.cc:41] Not creating XLA devices, tf_xla_enable_xla_devices not set\n",
      "2022-09-26 01:47:06.795537: I tensorflow/stream_executor/platform/default/dso_loader.cc:49] Successfully opened dynamic library libcuda.so.1\n",
      "2022-09-26 01:47:06.867904: I tensorflow/stream_executor/cuda/cuda_gpu_executor.cc:941] successful NUMA node read from SysFS had negative value (-1), but there must be at least one NUMA node, so returning NUMA node zero\n",
      "2022-09-26 01:47:06.868651: I tensorflow/core/common_runtime/gpu/gpu_device.cc:1720] Found device 0 with properties: \n",
      "pciBusID: 0000:00:04.0 name: Tesla P100-PCIE-16GB computeCapability: 6.0\n",
      "coreClock: 1.3285GHz coreCount: 56 deviceMemorySize: 15.90GiB deviceMemoryBandwidth: 681.88GiB/s\n",
      "2022-09-26 01:47:06.868717: I tensorflow/stream_executor/platform/default/dso_loader.cc:49] Successfully opened dynamic library libcudart.so.11.0\n",
      "2022-09-26 01:47:06.899375: I tensorflow/stream_executor/platform/default/dso_loader.cc:49] Successfully opened dynamic library libcublas.so.11\n",
      "2022-09-26 01:47:06.899482: I tensorflow/stream_executor/platform/default/dso_loader.cc:49] Successfully opened dynamic library libcublasLt.so.11\n",
      "2022-09-26 01:47:06.922011: I tensorflow/stream_executor/platform/default/dso_loader.cc:49] Successfully opened dynamic library libcufft.so.10\n",
      "2022-09-26 01:47:06.931178: I tensorflow/stream_executor/platform/default/dso_loader.cc:49] Successfully opened dynamic library libcurand.so.10\n",
      "2022-09-26 01:47:06.961172: I tensorflow/stream_executor/platform/default/dso_loader.cc:49] Successfully opened dynamic library libcusolver.so.10\n",
      "2022-09-26 01:47:06.970671: I tensorflow/stream_executor/platform/default/dso_loader.cc:49] Successfully opened dynamic library libcusparse.so.11\n",
      "2022-09-26 01:47:06.972881: I tensorflow/stream_executor/platform/default/dso_loader.cc:49] Successfully opened dynamic library libcudnn.so.8\n",
      "2022-09-26 01:47:06.973083: I tensorflow/stream_executor/cuda/cuda_gpu_executor.cc:941] successful NUMA node read from SysFS had negative value (-1), but there must be at least one NUMA node, so returning NUMA node zero\n",
      "2022-09-26 01:47:06.973871: I tensorflow/stream_executor/cuda/cuda_gpu_executor.cc:941] successful NUMA node read from SysFS had negative value (-1), but there must be at least one NUMA node, so returning NUMA node zero\n",
      "2022-09-26 01:47:06.976048: I tensorflow/core/common_runtime/gpu/gpu_device.cc:1862] Adding visible gpu devices: 0\n",
      "2022-09-26 01:47:06.977135: I tensorflow/core/platform/cpu_feature_guard.cc:142] This TensorFlow binary is optimized with oneAPI Deep Neural Network Library (oneDNN) to use the following CPU instructions in performance-critical operations:  AVX2 AVX512F FMA\n",
      "To enable them in other operations, rebuild TensorFlow with the appropriate compiler flags.\n",
      "2022-09-26 01:47:06.977379: I tensorflow/compiler/jit/xla_gpu_device.cc:99] Not creating XLA devices, tf_xla_enable_xla_devices not set\n",
      "2022-09-26 01:47:06.977557: I tensorflow/stream_executor/cuda/cuda_gpu_executor.cc:941] successful NUMA node read from SysFS had negative value (-1), but there must be at least one NUMA node, so returning NUMA node zero\n",
      "2022-09-26 01:47:06.978187: I tensorflow/core/common_runtime/gpu/gpu_device.cc:1720] Found device 0 with properties: \n",
      "pciBusID: 0000:00:04.0 name: Tesla P100-PCIE-16GB computeCapability: 6.0\n",
      "coreClock: 1.3285GHz coreCount: 56 deviceMemorySize: 15.90GiB deviceMemoryBandwidth: 681.88GiB/s\n",
      "2022-09-26 01:47:06.978256: I tensorflow/stream_executor/platform/default/dso_loader.cc:49] Successfully opened dynamic library libcudart.so.11.0\n",
      "2022-09-26 01:47:06.978299: I tensorflow/stream_executor/platform/default/dso_loader.cc:49] Successfully opened dynamic library libcublas.so.11\n",
      "2022-09-26 01:47:06.978323: I tensorflow/stream_executor/platform/default/dso_loader.cc:49] Successfully opened dynamic library libcublasLt.so.11\n",
      "2022-09-26 01:47:06.978346: I tensorflow/stream_executor/platform/default/dso_loader.cc:49] Successfully opened dynamic library libcufft.so.10\n",
      "2022-09-26 01:47:06.978368: I tensorflow/stream_executor/platform/default/dso_loader.cc:49] Successfully opened dynamic library libcurand.so.10\n",
      "2022-09-26 01:47:06.978390: I tensorflow/stream_executor/platform/default/dso_loader.cc:49] Successfully opened dynamic library libcusolver.so.10\n",
      "2022-09-26 01:47:06.978413: I tensorflow/stream_executor/platform/default/dso_loader.cc:49] Successfully opened dynamic library libcusparse.so.11\n",
      "2022-09-26 01:47:06.978436: I tensorflow/stream_executor/platform/default/dso_loader.cc:49] Successfully opened dynamic library libcudnn.so.8\n",
      "2022-09-26 01:47:06.978524: I tensorflow/stream_executor/cuda/cuda_gpu_executor.cc:941] successful NUMA node read from SysFS had negative value (-1), but there must be at least one NUMA node, so returning NUMA node zero\n",
      "2022-09-26 01:47:06.979220: I tensorflow/stream_executor/cuda/cuda_gpu_executor.cc:941] successful NUMA node read from SysFS had negative value (-1), but there must be at least one NUMA node, so returning NUMA node zero\n",
      "2022-09-26 01:47:06.979777: I tensorflow/core/common_runtime/gpu/gpu_device.cc:1862] Adding visible gpu devices: 0\n",
      "2022-09-26 01:47:06.980892: I tensorflow/stream_executor/platform/default/dso_loader.cc:49] Successfully opened dynamic library libcudart.so.11.0\n",
      "2022-09-26 01:47:08.789214: I tensorflow/core/common_runtime/gpu/gpu_device.cc:1261] Device interconnect StreamExecutor with strength 1 edge matrix:\n",
      "2022-09-26 01:47:08.789264: I tensorflow/core/common_runtime/gpu/gpu_device.cc:1267]      0 \n",
      "2022-09-26 01:47:08.789277: I tensorflow/core/common_runtime/gpu/gpu_device.cc:1280] 0:   N \n",
      "2022-09-26 01:47:08.791673: I tensorflow/stream_executor/cuda/cuda_gpu_executor.cc:941] successful NUMA node read from SysFS had negative value (-1), but there must be at least one NUMA node, so returning NUMA node zero\n",
      "2022-09-26 01:47:08.792596: I tensorflow/stream_executor/cuda/cuda_gpu_executor.cc:941] successful NUMA node read from SysFS had negative value (-1), but there must be at least one NUMA node, so returning NUMA node zero\n",
      "2022-09-26 01:47:08.793296: I tensorflow/stream_executor/cuda/cuda_gpu_executor.cc:941] successful NUMA node read from SysFS had negative value (-1), but there must be at least one NUMA node, so returning NUMA node zero\n",
      "2022-09-26 01:47:08.793880: I tensorflow/core/common_runtime/gpu/gpu_device.cc:1406] Created TensorFlow device (/job:localhost/replica:0/task:0/device:GPU:0 with 14957 MB memory) -> physical GPU (device: 0, name: Tesla P100-PCIE-16GB, pci bus id: 0000:00:04.0, compute capability: 6.0)\n",
      "2022-09-26 01:47:09.318826: I tensorflow/stream_executor/platform/default/dso_loader.cc:49] Successfully opened dynamic library libcudnn.so.8\n",
      "2022-09-26 01:47:14.965458: I tensorflow/stream_executor/platform/default/dso_loader.cc:49] Successfully opened dynamic library libcublas.so.11\n",
      "2022-09-26 01:47:15.889948: I tensorflow/stream_executor/platform/default/dso_loader.cc:49] Successfully opened dynamic library libcublasLt.so.11\n",
      "Some layers from the model checkpoint at openai/clip-vit-large-patch14 were not used when initializing TFCLIPVisionModel: ['clip/text_model/encoder/layers_._0/mlp/fc2/bias:0', 'clip/text_model/encoder/layers_._3/self_attn/v_proj/kernel:0', 'clip/visual_projection/kernel:0', 'clip/text_model/encoder/layers_._2/self_attn/v_proj/kernel:0', 'clip/text_model/encoder/layers_._3/self_attn/v_proj/bias:0', 'clip/text_model/encoder/layers_._4/self_attn/k_proj/bias:0', 'clip/text_model/encoder/layers_._9/layer_norm2/beta:0', 'clip/text_model/encoder/layers_._1/self_attn/out_proj/bias:0', 'clip/text_model/encoder/layers_._11/self_attn/k_proj/kernel:0', 'clip/text_model/encoder/layers_._1/layer_norm1/beta:0', 'clip/text_model/encoder/layers_._8/mlp/fc2/bias:0', 'clip/text_model/encoder/layers_._7/self_attn/out_proj/bias:0', 'clip/text_model/encoder/layers_._5/self_attn/v_proj/bias:0', 'clip/text_model/encoder/layers_._0/self_attn/out_proj/bias:0', 'clip/text_model/encoder/layers_._11/mlp/fc1/bias:0', 'clip/text_model/encoder/layers_._0/layer_norm1/beta:0', 'clip/text_model/encoder/layers_._5/self_attn/k_proj/bias:0', 'clip/text_model/encoder/layers_._6/mlp/fc2/kernel:0', 'clip/text_model/encoder/layers_._11/self_attn/v_proj/bias:0', 'clip/text_model/encoder/layers_._2/self_attn/q_proj/kernel:0', 'clip/text_model/encoder/layers_._8/layer_norm2/gamma:0', 'clip/text_model/encoder/layers_._1/mlp/fc1/bias:0', 'clip/text_model/encoder/layers_._1/layer_norm1/gamma:0', 'clip/text_model/encoder/layers_._2/self_attn/out_proj/bias:0', 'clip/text_model/encoder/layers_._3/self_attn/out_proj/kernel:0', 'clip/text_model/encoder/layers_._11/layer_norm1/gamma:0', 'clip/text_model/encoder/layers_._5/mlp/fc1/kernel:0', 'clip/text_model/encoder/layers_._2/self_attn/k_proj/kernel:0', 'clip/text_model/encoder/layers_._1/mlp/fc2/kernel:0', 'clip/text_model/encoder/layers_._6/self_attn/out_proj/bias:0', 'clip/text_model/encoder/layers_._4/mlp/fc2/bias:0', 'clip/text_model/encoder/layers_._10/mlp/fc1/kernel:0', 'clip/text_model/encoder/layers_._7/mlp/fc2/bias:0', 'clip/text_model/encoder/layers_._9/layer_norm1/gamma:0', 'clip/text_model/encoder/layers_._5/self_attn/q_proj/bias:0', 'clip/text_model/encoder/layers_._8/self_attn/q_proj/bias:0', 'clip/text_model/encoder/layers_._6/layer_norm2/beta:0', 'clip/text_model/encoder/layers_._7/layer_norm2/gamma:0', 'clip/text_model/encoder/layers_._6/self_attn/v_proj/bias:0', 'clip/text_model/encoder/layers_._8/self_attn/out_proj/bias:0', 'clip/text_model/encoder/layers_._5/mlp/fc2/bias:0', 'clip/text_model/encoder/layers_._0/self_attn/k_proj/bias:0', 'clip/text_model/encoder/layers_._8/layer_norm1/beta:0', 'clip/text_model/encoder/layers_._4/self_attn/q_proj/bias:0', 'clip/text_model/encoder/layers_._9/self_attn/k_proj/kernel:0', 'clip/text_model/encoder/layers_._1/self_attn/k_proj/bias:0', 'clip/text_model/encoder/layers_._8/self_attn/k_proj/kernel:0', 'clip/text_model/encoder/layers_._9/mlp/fc2/kernel:0', 'clip/text_model/encoder/layers_._7/layer_norm1/beta:0', 'clip/text_model/encoder/layers_._8/layer_norm1/gamma:0', 'clip/text_model/encoder/layers_._0/self_attn/q_proj/bias:0', 'clip/text_model/encoder/layers_._9/mlp/fc2/bias:0', 'clip/text_model/encoder/layers_._2/self_attn/k_proj/bias:0', 'clip/text_model/encoder/layers_._7/layer_norm2/beta:0', 'clip/text_model/encoder/layers_._1/layer_norm2/beta:0', 'clip/text_model/encoder/layers_._1/self_attn/out_proj/kernel:0', 'clip/text_model/encoder/layers_._5/self_attn/out_proj/bias:0', 'clip/text_model/encoder/layers_._2/self_attn/v_proj/bias:0', 'clip/text_model/encoder/layers_._7/self_attn/k_proj/kernel:0', 'clip/text_model/encoder/layers_._10/mlp/fc2/bias:0', 'clip/text_model/encoder/layers_._11/self_attn/k_proj/bias:0', 'clip/text_model/encoder/layers_._4/self_attn/out_proj/kernel:0', 'clip/text_model/encoder/layers_._6/layer_norm1/beta:0', 'clip/text_model/encoder/layers_._4/mlp/fc2/kernel:0', 'clip/text_model/encoder/layers_._9/self_attn/q_proj/kernel:0', 'clip/text_model/encoder/layers_._0/mlp/fc1/kernel:0', 'clip/text_model/encoder/layers_._2/layer_norm2/beta:0', 'clip/text_model/encoder/layers_._10/layer_norm1/beta:0', 'clip/logit_scale:0', 'clip/text_model/encoder/layers_._3/mlp/fc1/bias:0', 'clip/text_model/encoder/layers_._2/mlp/fc1/bias:0', 'clip/text_model/encoder/layers_._1/self_attn/v_proj/kernel:0', 'clip/text_model/encoder/layers_._6/self_attn/k_proj/kernel:0', 'clip/text_model/encoder/layers_._3/self_attn/k_proj/kernel:0', 'clip/text_model/encoder/layers_._6/self_attn/q_proj/kernel:0', 'clip/text_model/encoder/layers_._6/self_attn/k_proj/bias:0', 'clip/text_model/encoder/layers_._8/mlp/fc1/kernel:0', 'clip/text_model/encoder/layers_._9/mlp/fc1/kernel:0', 'clip/text_model/encoder/layers_._7/mlp/fc1/bias:0', 'clip/text_model/encoder/layers_._9/self_attn/k_proj/bias:0', 'clip/text_model/encoder/layers_._10/layer_norm2/beta:0', 'clip/text_model/encoder/layers_._5/self_attn/out_proj/kernel:0', 'clip/text_model/encoder/layers_._2/mlp/fc2/kernel:0', 'clip/text_model/encoder/layers_._2/self_attn/out_proj/kernel:0', 'clip/text_model/encoder/layers_._6/mlp/fc1/bias:0', 'clip/text_model/encoder/layers_._8/self_attn/v_proj/kernel:0', 'clip/text_model/encoder/layers_._2/mlp/fc2/bias:0', 'clip/text_model/encoder/layers_._5/layer_norm2/gamma:0', 'clip/text_model/encoder/layers_._7/self_attn/v_proj/kernel:0', 'clip/text_model/encoder/layers_._10/self_attn/q_proj/kernel:0', 'clip/text_model/encoder/layers_._11/self_attn/q_proj/bias:0', 'clip/text_model/encoder/layers_._4/self_attn/k_proj/kernel:0', 'clip/text_model/encoder/layers_._9/self_attn/q_proj/bias:0', 'clip/text_model/encoder/layers_._0/self_attn/out_proj/kernel:0', 'clip/text_model/encoder/layers_._3/layer_norm2/beta:0', 'clip/text_model/encoder/layers_._5/layer_norm1/beta:0', 'clip/text_model/encoder/layers_._11/self_attn/v_proj/kernel:0', 'clip/text_model/encoder/layers_._4/self_attn/out_proj/bias:0', 'clip/text_model/encoder/layers_._1/layer_norm2/gamma:0', 'clip/text_model/encoder/layers_._7/layer_norm1/gamma:0', 'clip/text_projection/kernel:0', 'clip/text_model/encoder/layers_._5/self_attn/q_proj/kernel:0', 'clip/text_model/encoder/layers_._1/self_attn/k_proj/kernel:0', 'clip/text_model/encoder/layers_._10/self_attn/out_proj/bias:0', 'clip/text_model/encoder/layers_._1/self_attn/v_proj/bias:0', 'clip/text_model/encoder/layers_._2/mlp/fc1/kernel:0', 'clip/text_model/encoder/layers_._5/mlp/fc1/bias:0', 'clip/text_model/encoder/layers_._5/self_attn/k_proj/kernel:0', 'clip/text_model/encoder/layers_._0/layer_norm1/gamma:0', 'clip/text_model/final_layer_norm/gamma:0', 'clip/text_model/encoder/layers_._4/self_attn/q_proj/kernel:0', 'clip/text_model/encoder/layers_._3/layer_norm1/gamma:0', 'clip/text_model/encoder/layers_._6/mlp/fc1/kernel:0', 'clip/text_model/encoder/layers_._0/mlp/fc1/bias:0', 'clip/text_model/encoder/layers_._0/self_attn/k_proj/kernel:0', 'clip/text_model/embeddings/position_embedding/embeddings:0', 'clip/text_model/encoder/layers_._5/self_attn/v_proj/kernel:0', 'clip/text_model/encoder/layers_._0/self_attn/v_proj/bias:0', 'clip/text_model/encoder/layers_._6/self_attn/v_proj/kernel:0', 'clip/text_model/encoder/layers_._9/self_attn/out_proj/bias:0', 'clip/text_model/encoder/layers_._11/self_attn/q_proj/kernel:0', 'clip/text_model/encoder/layers_._9/layer_norm2/gamma:0', 'clip/text_model/encoder/layers_._3/mlp/fc1/kernel:0', 'clip/text_model/encoder/layers_._3/mlp/fc2/bias:0', 'clip/text_model/encoder/layers_._11/mlp/fc2/kernel:0', 'clip/text_model/encoder/layers_._4/layer_norm2/gamma:0', 'clip/text_model/encoder/layers_._1/mlp/fc2/bias:0', 'clip/text_model/encoder/layers_._3/self_attn/out_proj/bias:0', 'clip/text_model/encoder/layers_._5/layer_norm1/gamma:0', 'clip/text_model/encoder/layers_._5/mlp/fc2/kernel:0', 'clip/text_model/embeddings/token_embedding/weight:0', 'clip/text_model/encoder/layers_._7/mlp/fc2/kernel:0', 'clip/text_model/encoder/layers_._2/layer_norm2/gamma:0', 'clip/text_model/encoder/layers_._7/self_attn/q_proj/bias:0', 'clip/text_model/encoder/layers_._3/mlp/fc2/kernel:0', 'clip/text_model/encoder/layers_._0/mlp/fc2/kernel:0', 'clip/text_model/encoder/layers_._10/self_attn/out_proj/kernel:0', 'clip/text_model/encoder/layers_._0/self_attn/v_proj/kernel:0', 'clip/text_model/encoder/layers_._11/self_attn/out_proj/bias:0', 'clip/text_model/encoder/layers_._8/self_attn/out_proj/kernel:0', 'clip/text_model/encoder/layers_._2/self_attn/q_proj/bias:0', 'clip/text_model/encoder/layers_._11/mlp/fc1/kernel:0', 'clip/text_model/encoder/layers_._10/self_attn/q_proj/bias:0', 'clip/text_model/encoder/layers_._10/mlp/fc2/kernel:0', 'clip/text_model/final_layer_norm/beta:0', 'clip/text_model/encoder/layers_._7/self_attn/k_proj/bias:0', 'clip/text_model/encoder/layers_._8/layer_norm2/beta:0', 'clip/text_model/encoder/layers_._0/layer_norm2/gamma:0', 'clip/text_model/encoder/layers_._10/mlp/fc1/bias:0', 'clip/text_model/encoder/layers_._11/self_attn/out_proj/kernel:0', 'clip/text_model/encoder/layers_._11/layer_norm2/gamma:0', 'clip/text_model/encoder/layers_._3/layer_norm2/gamma:0', 'clip/text_model/encoder/layers_._9/self_attn/v_proj/kernel:0', 'clip/text_model/encoder/layers_._2/layer_norm1/gamma:0', 'clip/text_model/encoder/layers_._6/layer_norm1/gamma:0', 'clip/text_model/encoder/layers_._7/self_attn/q_proj/kernel:0', 'clip/text_model/encoder/layers_._6/self_attn/q_proj/bias:0', 'clip/text_model/encoder/layers_._8/self_attn/k_proj/bias:0', 'clip/text_model/encoder/layers_._4/layer_norm1/gamma:0', 'clip/text_model/encoder/layers_._7/self_attn/out_proj/kernel:0', 'clip/text_model/encoder/layers_._6/mlp/fc2/bias:0', 'clip/text_model/encoder/layers_._9/self_attn/out_proj/kernel:0', 'clip/text_model/encoder/layers_._7/mlp/fc1/kernel:0', 'clip/text_model/encoder/layers_._6/layer_norm2/gamma:0', 'clip/text_model/encoder/layers_._4/mlp/fc1/kernel:0', 'clip/text_model/encoder/layers_._8/self_attn/q_proj/kernel:0', 'clip/text_model/encoder/layers_._10/layer_norm2/gamma:0', 'clip/text_model/encoder/layers_._3/self_attn/q_proj/bias:0', 'clip/text_model/encoder/layers_._8/mlp/fc1/bias:0', 'clip/text_model/encoder/layers_._4/layer_norm2/beta:0', 'clip/text_model/encoder/layers_._1/mlp/fc1/kernel:0', 'clip/text_model/encoder/layers_._8/mlp/fc2/kernel:0', 'clip/text_model/encoder/layers_._0/self_attn/q_proj/kernel:0', 'clip/text_model/encoder/layers_._4/self_attn/v_proj/bias:0', 'clip/text_model/encoder/layers_._3/layer_norm1/beta:0', 'clip/text_model/encoder/layers_._9/layer_norm1/beta:0', 'clip/text_model/encoder/layers_._10/self_attn/k_proj/kernel:0', 'clip/text_model/encoder/layers_._0/layer_norm2/beta:0', 'clip/text_model/encoder/layers_._9/self_attn/v_proj/bias:0', 'clip/text_model/encoder/layers_._7/self_attn/v_proj/bias:0', 'clip/text_model/encoder/layers_._4/layer_norm1/beta:0', 'clip/text_model/encoder/layers_._1/self_attn/q_proj/bias:0', 'clip/text_model/encoder/layers_._9/mlp/fc1/bias:0', 'clip/text_model/encoder/layers_._8/self_attn/v_proj/bias:0', 'clip/text_model/encoder/layers_._10/self_attn/k_proj/bias:0', 'clip/text_model/encoder/layers_._11/layer_norm2/beta:0', 'clip/text_model/encoder/layers_._10/self_attn/v_proj/kernel:0', 'clip/text_model/encoder/layers_._3/self_attn/q_proj/kernel:0', 'clip/text_model/encoder/layers_._10/layer_norm1/gamma:0', 'clip/text_model/encoder/layers_._10/self_attn/v_proj/bias:0', 'clip/text_model/encoder/layers_._2/layer_norm1/beta:0', 'clip/text_model/encoder/layers_._4/self_attn/v_proj/kernel:0', 'clip/text_model/encoder/layers_._4/mlp/fc1/bias:0', 'clip/text_model/encoder/layers_._11/mlp/fc2/bias:0', 'clip/text_model/encoder/layers_._6/self_attn/out_proj/kernel:0', 'clip/text_model/encoder/layers_._11/layer_norm1/beta:0', 'clip/text_model/encoder/layers_._5/layer_norm2/beta:0', 'clip/text_model/encoder/layers_._1/self_attn/q_proj/kernel:0', 'clip/text_model/encoder/layers_._3/self_attn/k_proj/bias:0']\n",
      "- This IS expected if you are initializing TFCLIPVisionModel from the checkpoint of a model trained on another task or with another architecture (e.g. initializing a BertForSequenceClassification model from a BertForPreTraining model).\n",
      "- This IS NOT expected if you are initializing TFCLIPVisionModel from the checkpoint of a model that you expect to be exactly identical (initializing a BertForSequenceClassification model from a BertForSequenceClassification model).\n",
      "All the layers of TFCLIPVisionModel were initialized from the model checkpoint at openai/clip-vit-large-patch14.\n",
      "If your task is similar to the task the model of the checkpoint was trained on, you can already use TFCLIPVisionModel for predictions without further training.\n"
     ]
    },
    {
     "name": "stdout",
     "output_type": "stream",
     "text": [
      "load ../input/guie-tensorflow-clip-distancelayer-train-dim64/clip-vit-large-patch14_224pix-emb64_loss.h5\n"
     ]
    }
   ],
   "source": [
    "with strategy.scope():\n",
    "    model, emb_model, backbone_model, projection_model = get_embedding_model()\n",
    "\n",
    "    opt = tf.keras.optimizers.Adam(learning_rate = config.LR)\n",
    "    projection_model.compile(\n",
    "        optimizer = opt,\n",
    "        loss = [tf.keras.losses.SparseCategoricalCrossentropy()],\n",
    "        metrics = [tf.keras.metrics.SparseCategoricalAccuracy(),tf.keras.metrics.SparseTopKCategoricalAccuracy(k=5)]\n",
    "        )\n",
    "\n",
    "    if config.RESUME:\n",
    "        print(f\"load {config.RESUME_WEIGHT}\")\n",
    "        model.load_weights( config.RESUME_WEIGHT )"
   ]
  },
  {
   "cell_type": "code",
   "execution_count": 7,
   "id": "7d59aef4",
   "metadata": {
    "execution": {
     "iopub.execute_input": "2022-09-26T01:47:38.690697Z",
     "iopub.status.busy": "2022-09-26T01:47:38.689739Z",
     "iopub.status.idle": "2022-09-26T01:47:40.002614Z",
     "shell.execute_reply": "2022-09-26T01:47:40.002154Z",
     "shell.execute_reply.started": "2022-09-26T01:44:10.288975Z"
    },
    "papermill": {
     "duration": 1.341005,
     "end_time": "2022-09-26T01:47:40.002737",
     "exception": false,
     "start_time": "2022-09-26T01:47:38.661732",
     "status": "completed"
    },
    "tags": []
   },
   "outputs": [
    {
     "name": "stdout",
     "output_type": "stream",
     "text": [
      "// model to save/load weights via hdf5 file.\n"
     ]
    },
    {
     "data": {
      "image/png": "[encoded data removed]",
      "text/plain": [
       "<IPython.core.display.Image object>"
      ]
     },
     "execution_count": 7,
     "metadata": {},
     "output_type": "execute_result"
    }
   ],
   "source": [
    "print( f\"// model to save/load weights via hdf5 file.\" )\n",
    "plot_model(model, show_shapes=True, show_layer_names=True, dpi=64)"
   ]
  },
  {
   "cell_type": "code",
   "execution_count": 8,
   "id": "4bbb6e93",
   "metadata": {
    "execution": {
     "iopub.execute_input": "2022-09-26T01:47:40.039373Z",
     "iopub.status.busy": "2022-09-26T01:47:40.038338Z",
     "iopub.status.idle": "2022-09-26T01:47:40.241448Z",
     "shell.execute_reply": "2022-09-26T01:47:40.241015Z",
     "shell.execute_reply.started": "2022-09-26T01:44:18.336081Z"
    },
    "papermill": {
     "duration": 0.223214,
     "end_time": "2022-09-26T01:47:40.241576",
     "exception": false,
     "start_time": "2022-09-26T01:47:40.018362",
     "status": "completed"
    },
    "tags": []
   },
   "outputs": [
    {
     "name": "stdout",
     "output_type": "stream",
     "text": [
      "// emb_model for submission\n"
     ]
    },
    {
     "data": {
      "image/png": "[encoded data removed]",
      "text/plain": [
       "<IPython.core.display.Image object>"
      ]
     },
     "execution_count": 8,
     "metadata": {},
     "output_type": "execute_result"
    }
   ],
   "source": [
    "print( f\"// emb_model for submission\" )\n",
    "plot_model(emb_model, show_shapes=True, show_layer_names=True, dpi=64)"
   ]
  },
  {
   "cell_type": "code",
   "execution_count": 9,
   "id": "f7846ba7",
   "metadata": {
    "execution": {
     "iopub.execute_input": "2022-09-26T01:47:40.281694Z",
     "iopub.status.busy": "2022-09-26T01:47:40.281185Z",
     "iopub.status.idle": "2022-09-26T01:47:40.478248Z",
     "shell.execute_reply": "2022-09-26T01:47:40.478665Z",
     "shell.execute_reply.started": "2022-09-26T01:44:35.756106Z"
    },
    "papermill": {
     "duration": 0.219678,
     "end_time": "2022-09-26T01:47:40.478838",
     "exception": false,
     "start_time": "2022-09-26T01:47:40.259160",
     "status": "completed"
    },
    "tags": []
   },
   "outputs": [
    {
     "name": "stdout",
     "output_type": "stream",
     "text": [
      "// backbone_model to get training data\n"
     ]
    },
    {
     "data": {
      "image/png": "[encoded data removed]",
      "text/plain": [
       "<IPython.core.display.Image object>"
      ]
     },
     "execution_count": 9,
     "metadata": {},
     "output_type": "execute_result"
    }
   ],
   "source": [
    "print( f\"// backbone_model to get training data\" )\n",
    "plot_model(backbone_model, show_shapes=True, show_layer_names=True, dpi=64)"
   ]
  },
  {
   "cell_type": "code",
   "execution_count": 10,
   "id": "740fd86e",
   "metadata": {
    "execution": {
     "iopub.execute_input": "2022-09-26T01:47:40.520215Z",
     "iopub.status.busy": "2022-09-26T01:47:40.519658Z",
     "iopub.status.idle": "2022-09-26T01:47:40.714906Z",
     "shell.execute_reply": "2022-09-26T01:47:40.715402Z",
     "shell.execute_reply.started": "2022-09-26T01:44:40.938419Z"
    },
    "papermill": {
     "duration": 0.2187,
     "end_time": "2022-09-26T01:47:40.715579",
     "exception": false,
     "start_time": "2022-09-26T01:47:40.496879",
     "status": "completed"
    },
    "tags": []
   },
   "outputs": [
    {
     "name": "stdout",
     "output_type": "stream",
     "text": [
      "// projection_model to train weights\n"
     ]
    },
    {
     "data": {
      "image/png": "[encoded data removed]",
      "text/plain": [
       "<IPython.core.display.Image object>"
      ]
     },
     "execution_count": 10,
     "metadata": {},
     "output_type": "execute_result"
    }
   ],
   "source": [
    "print( f\"// projection_model to train weights\" )\n",
    "plot_model(projection_model, show_shapes=True, show_layer_names=True, dpi=64)"
   ]
  },
  {
   "cell_type": "markdown",
   "id": "a86ea573",
   "metadata": {
    "papermill": {
     "duration": 0.018814,
     "end_time": "2022-09-26T01:47:40.753882",
     "exception": false,
     "start_time": "2022-09-26T01:47:40.735068",
     "status": "completed"
    },
    "tags": []
   },
   "source": [
    "# Submission"
   ]
  },
  {
   "cell_type": "code",
   "execution_count": 11,
   "id": "61a5f5b3",
   "metadata": {
    "execution": {
     "iopub.execute_input": "2022-09-26T01:47:40.807060Z",
     "iopub.status.busy": "2022-09-26T01:47:40.804767Z",
     "iopub.status.idle": "2022-09-26T01:49:00.494578Z",
     "shell.execute_reply": "2022-09-26T01:49:00.495122Z",
     "shell.execute_reply.started": "2022-09-26T01:40:27.188263Z"
    },
    "papermill": {
     "duration": 79.722342,
     "end_time": "2022-09-26T01:49:00.495307",
     "exception": false,
     "start_time": "2022-09-26T01:47:40.772965",
     "status": "completed"
    },
    "tags": []
   },
   "outputs": [
    {
     "name": "stderr",
     "output_type": "stream",
     "text": [
      "2022-09-26 01:47:58.748796: W tensorflow/python/util/util.cc:348] Sets are not currently considered sequences, but this may change in the future, so consider avoiding using them.\n"
     ]
    }
   ],
   "source": [
    "save_locally = tf.saved_model.SaveOptions(\n",
    "    experimental_io_device='/job:localhost'\n",
    ")\n",
    "emb_model.save('./embedding_norm_model', options=save_locally)\n",
    "\n",
    "from zipfile import ZipFile\n",
    "\n",
    "with ZipFile('submission.zip','w') as zip:           \n",
    "    zip.write(\n",
    "        './embedding_norm_model/saved_model.pb', \n",
    "        arcname='saved_model.pb'\n",
    "    ) \n",
    "    zip.write(\n",
    "        './embedding_norm_model/variables/variables.data-00000-of-00001', \n",
    "        arcname='variables/variables.data-00000-of-00001'\n",
    "    ) \n",
    "    zip.write(\n",
    "        './embedding_norm_model/variables/variables.index', \n",
    "        arcname='variables/variables.index'\n",
    "    )"
   ]
  }
 ],
 "metadata": {
  "kernelspec": {
   "display_name": "Python 3",
   "language": "python",
   "name": "python3"
  },
  "language_info": {
   "codemirror_mode": {
    "name": "ipython",
    "version": 3
   },
   "file_extension": ".py",
   "mimetype": "text/x-python",
   "name": "python",
   "nbconvert_exporter": "python",
   "pygments_lexer": "ipython3",
   "version": "3.7.10"
  },
  "papermill": {
   "default_parameters": {},
   "duration": 218.674075,
   "end_time": "2022-09-26T01:49:03.987136",
   "environment_variables": {},
   "exception": null,
   "input_path": "__notebook__.ipynb",
   "output_path": "__notebook__.ipynb",
   "parameters": {},
   "start_time": "2022-09-26T01:45:25.313061",
   "version": "2.3.3"
  },
  "widgets": {
   "application/vnd.jupyter.widget-state+json": {
    "state": {
     "032ce2676fb24facb71946e577e4e777": {
      "model_module": "@jupyter-widgets/controls",
      "model_module_version": "1.5.0",
      "model_name": "HBoxModel",
      "state": {
       "_dom_classes": [],
       "_model_module": "@jupyter-widgets/controls",
       "_model_module_version": "1.5.0",
       "_model_name": "HBoxModel",
       "_view_count": null,
       "_view_module": "@jupyter-widgets/controls",
       "_view_module_version": "1.5.0",
       "_view_name": "HBoxView",
       "box_style": "",
       "children": [
        "IPY_MODEL_7dd84b1f801e4515aefea0732cb14102",
        "IPY_MODEL_a249948c851142bd8ec7a2c810cebfa8",
        "IPY_MODEL_a3aecdd4f65b41e0b4d7fd96792fd537"
       ],
       "layout": "IPY_MODEL_1a50f2e03e9a4aed974c7909e3713022"
      }
     },
     "0830754e76444be9baf370b49263bf82": {
      "model_module": "@jupyter-widgets/base",
      "model_module_version": "1.2.0",
      "model_name": "LayoutModel",
      "state": {
       "_model_module": "@jupyter-widgets/base",
       "_model_module_version": "1.2.0",
       "_model_name": "LayoutModel",
       "_view_count": null,
       "_view_module": "@jupyter-widgets/base",
       "_view_module_version": "1.2.0",
       "_view_name": "LayoutView",
       "align_content": null,
       "align_items": null,
       "align_self": null,
       "border": null,
       "bottom": null,
       "display": null,
       "flex": null,
       "flex_flow": null,
       "grid_area": null,
       "grid_auto_columns": null,
       "grid_auto_flow": null,
       "grid_auto_rows": null,
       "grid_column": null,
       "grid_gap": null,
       "grid_row": null,
       "grid_template_areas": null,
       "grid_template_columns": null,
       "grid_template_rows": null,
       "height": null,
       "justify_content": null,
       "justify_items": null,
       "left": null,
       "margin": null,
       "max_height": null,
       "max_width": null,
       "min_height": null,
       "min_width": null,
       "object_fit": null,
       "object_position": null,
       "order": null,
       "overflow": null,
       "overflow_x": null,
       "overflow_y": null,
       "padding": null,
       "right": null,
       "top": null,
       "visibility": null,
       "width": null
      }
     },
     "09336fbe94f748ecab56c44231d31e22": {
      "model_module": "@jupyter-widgets/base",
      "model_module_version": "1.2.0",
      "model_name": "LayoutModel",
      "state": {
       "_model_module": "@jupyter-widgets/base",
       "_model_module_version": "1.2.0",
       "_model_name": "LayoutModel",
       "_view_count": null,
       "_view_module": "@jupyter-widgets/base",
       "_view_module_version": "1.2.0",
       "_view_name": "LayoutView",
       "align_content": null,
       "align_items": null,
       "align_self": null,
       "border": null,
       "bottom": null,
       "display": null,
       "flex": null,
       "flex_flow": null,
       "grid_area": null,
       "grid_auto_columns": null,
       "grid_auto_flow": null,
       "grid_auto_rows": null,
       "grid_column": null,
       "grid_gap": null,
       "grid_row": null,
       "grid_template_areas": null,
       "grid_template_columns": null,
       "grid_template_rows": null,
       "height": null,
       "justify_content": null,
       "justify_items": null,
       "left": null,
       "margin": null,
       "max_height": null,
       "max_width": null,
       "min_height": null,
       "min_width": null,
       "object_fit": null,
       "object_position": null,
       "order": null,
       "overflow": null,
       "overflow_x": null,
       "overflow_y": null,
       "padding": null,
       "right": null,
       "top": null,
       "visibility": null,
       "width": null
      }
     },
     "1a50f2e03e9a4aed974c7909e3713022": {
      "model_module": "@jupyter-widgets/base",
      "model_module_version": "1.2.0",
      "model_name": "LayoutModel",
      "state": {
       "_model_module": "@jupyter-widgets/base",
       "_model_module_version": "1.2.0",
       "_model_name": "LayoutModel",
       "_view_count": null,
       "_view_module": "@jupyter-widgets/base",
       "_view_module_version": "1.2.0",
       "_view_name": "LayoutView",
       "align_content": null,
       "align_items": null,
       "align_self": null,
       "border": null,
       "bottom": null,
       "display": null,
       "flex": null,
       "flex_flow": null,
       "grid_area": null,
       "grid_auto_columns": null,
       "grid_auto_flow": null,
       "grid_auto_rows": null,
       "grid_column": null,
       "grid_gap": null,
       "grid_row": null,
       "grid_template_areas": null,
       "grid_template_columns": null,
       "grid_template_rows": null,
       "height": null,
       "justify_content": null,
       "justify_items": null,
       "left": null,
       "margin": null,
       "max_height": null,
       "max_width": null,
       "min_height": null,
       "min_width": null,
       "object_fit": null,
       "object_position": null,
       "order": null,
       "overflow": null,
       "overflow_x": null,
       "overflow_y": null,
       "padding": null,
       "right": null,
       "top": null,
       "visibility": null,
       "width": null
      }
     },
     "20fbfda8b4bd44b08eeee929bbe75ea1": {
      "model_module": "@jupyter-widgets/base",
      "model_module_version": "1.2.0",
      "model_name": "LayoutModel",
      "state": {
       "_model_module": "@jupyter-widgets/base",
       "_model_module_version": "1.2.0",
       "_model_name": "LayoutModel",
       "_view_count": null,
       "_view_module": "@jupyter-widgets/base",
       "_view_module_version": "1.2.0",
       "_view_name": "LayoutView",
       "align_content": null,
       "align_items": null,
       "align_self": null,
       "border": null,
       "bottom": null,
       "display": null,
       "flex": null,
       "flex_flow": null,
       "grid_area": null,
       "grid_auto_columns": null,
       "grid_auto_flow": null,
       "grid_auto_rows": null,
       "grid_column": null,
       "grid_gap": null,
       "grid_row": null,
       "grid_template_areas": null,
       "grid_template_columns": null,
       "grid_template_rows": null,
       "height": null,
       "justify_content": null,
       "justify_items": null,
       "left": null,
       "margin": null,
       "max_height": null,
       "max_width": null,
       "min_height": null,
       "min_width": null,
       "object_fit": null,
       "object_position": null,
       "order": null,
       "overflow": null,
       "overflow_x": null,
       "overflow_y": null,
       "padding": null,
       "right": null,
       "top": null,
       "visibility": null,
       "width": null
      }
     },
     "31046ac3593741f1aac1139c1f3026f0": {
      "model_module": "@jupyter-widgets/controls",
      "model_module_version": "1.5.0",
      "model_name": "ProgressStyleModel",
      "state": {
       "_model_module": "@jupyter-widgets/controls",
       "_model_module_version": "1.5.0",
       "_model_name": "ProgressStyleModel",
       "_view_count": null,
       "_view_module": "@jupyter-widgets/base",
       "_view_module_version": "1.2.0",
       "_view_name": "StyleView",
       "bar_color": null,
       "description_width": ""
      }
     },
     "3899796454df42e280e8c9e05a3aba75": {
      "model_module": "@jupyter-widgets/controls",
      "model_module_version": "1.5.0",
      "model_name": "DescriptionStyleModel",
      "state": {
       "_model_module": "@jupyter-widgets/controls",
       "_model_module_version": "1.5.0",
       "_model_name": "DescriptionStyleModel",
       "_view_count": null,
       "_view_module": "@jupyter-widgets/base",
       "_view_module_version": "1.2.0",
       "_view_name": "StyleView",
       "description_width": ""
      }
     },
     "4bf6b9bba43e42b48247301398688228": {
      "model_module": "@jupyter-widgets/controls",
      "model_module_version": "1.5.0",
      "model_name": "ProgressStyleModel",
      "state": {
       "_model_module": "@jupyter-widgets/controls",
       "_model_module_version": "1.5.0",
       "_model_name": "ProgressStyleModel",
       "_view_count": null,
       "_view_module": "@jupyter-widgets/base",
       "_view_module_version": "1.2.0",
       "_view_name": "StyleView",
       "bar_color": null,
       "description_width": ""
      }
     },
     "4e59e4d0de5349d4a3f0fa7645446dd2": {
      "model_module": "@jupyter-widgets/controls",
      "model_module_version": "1.5.0",
      "model_name": "DescriptionStyleModel",
      "state": {
       "_model_module": "@jupyter-widgets/controls",
       "_model_module_version": "1.5.0",
       "_model_name": "DescriptionStyleModel",
       "_view_count": null,
       "_view_module": "@jupyter-widgets/base",
       "_view_module_version": "1.2.0",
       "_view_name": "StyleView",
       "description_width": ""
      }
     },
     "5401284035be4273bc595cf0ecacaefa": {
      "model_module": "@jupyter-widgets/base",
      "model_module_version": "1.2.0",
      "model_name": "LayoutModel",
      "state": {
       "_model_module": "@jupyter-widgets/base",
       "_model_module_version": "1.2.0",
       "_model_name": "LayoutModel",
       "_view_count": null,
       "_view_module": "@jupyter-widgets/base",
       "_view_module_version": "1.2.0",
       "_view_name": "LayoutView",
       "align_content": null,
       "align_items": null,
       "align_self": null,
       "border": null,
       "bottom": null,
       "display": null,
       "flex": null,
       "flex_flow": null,
       "grid_area": null,
       "grid_auto_columns": null,
       "grid_auto_flow": null,
       "grid_auto_rows": null,
       "grid_column": null,
       "grid_gap": null,
       "grid_row": null,
       "grid_template_areas": null,
       "grid_template_columns": null,
       "grid_template_rows": null,
       "height": null,
       "justify_content": null,
       "justify_items": null,
       "left": null,
       "margin": null,
       "max_height": null,
       "max_width": null,
       "min_height": null,
       "min_width": null,
       "object_fit": null,
       "object_position": null,
       "order": null,
       "overflow": null,
       "overflow_x": null,
       "overflow_y": null,
       "padding": null,
       "right": null,
       "top": null,
       "visibility": null,
       "width": null
      }
     },
     "64edff8a071a4615ad13bda5a1df7cbc": {
      "model_module": "@jupyter-widgets/controls",
      "model_module_version": "1.5.0",
      "model_name": "HBoxModel",
      "state": {
       "_dom_classes": [],
       "_model_module": "@jupyter-widgets/controls",
       "_model_module_version": "1.5.0",
       "_model_name": "HBoxModel",
       "_view_count": null,
       "_view_module": "@jupyter-widgets/controls",
       "_view_module_version": "1.5.0",
       "_view_name": "HBoxView",
       "box_style": "",
       "children": [
        "IPY_MODEL_83f60d19c2fc482081f072bab0a2e229",
        "IPY_MODEL_706949c3d4da49d48384df24fa92360c",
        "IPY_MODEL_6d9b6cd23f8e452481f4c26a92a1a072"
       ],
       "layout": "IPY_MODEL_88674434c6924b6197187d1c2f2808cb"
      }
     },
     "6914034a13fe4bb89e443372bd37a1c6": {
      "model_module": "@jupyter-widgets/base",
      "model_module_version": "1.2.0",
      "model_name": "LayoutModel",
      "state": {
       "_model_module": "@jupyter-widgets/base",
       "_model_module_version": "1.2.0",
       "_model_name": "LayoutModel",
       "_view_count": null,
       "_view_module": "@jupyter-widgets/base",
       "_view_module_version": "1.2.0",
       "_view_name": "LayoutView",
       "align_content": null,
       "align_items": null,
       "align_self": null,
       "border": null,
       "bottom": null,
       "display": null,
       "flex": null,
       "flex_flow": null,
       "grid_area": null,
       "grid_auto_columns": null,
       "grid_auto_flow": null,
       "grid_auto_rows": null,
       "grid_column": null,
       "grid_gap": null,
       "grid_row": null,
       "grid_template_areas": null,
       "grid_template_columns": null,
       "grid_template_rows": null,
       "height": null,
       "justify_content": null,
       "justify_items": null,
       "left": null,
       "margin": null,
       "max_height": null,
       "max_width": null,
       "min_height": null,
       "min_width": null,
       "object_fit": null,
       "object_position": null,
       "order": null,
       "overflow": null,
       "overflow_x": null,
       "overflow_y": null,
       "padding": null,
       "right": null,
       "top": null,
       "visibility": null,
       "width": null
      }
     },
     "6d844dd37a73474b98c26396aa1fcf55": {
      "model_module": "@jupyter-widgets/controls",
      "model_module_version": "1.5.0",
      "model_name": "ProgressStyleModel",
      "state": {
       "_model_module": "@jupyter-widgets/controls",
       "_model_module_version": "1.5.0",
       "_model_name": "ProgressStyleModel",
       "_view_count": null,
       "_view_module": "@jupyter-widgets/base",
       "_view_module_version": "1.2.0",
       "_view_name": "StyleView",
       "bar_color": null,
       "description_width": ""
      }
     },
     "6d9b6cd23f8e452481f4c26a92a1a072": {
      "model_module": "@jupyter-widgets/controls",
      "model_module_version": "1.5.0",
      "model_name": "HTMLModel",
      "state": {
       "_dom_classes": [],
       "_model_module": "@jupyter-widgets/controls",
       "_model_module_version": "1.5.0",
       "_model_name": "HTMLModel",
       "_view_count": null,
       "_view_module": "@jupyter-widgets/controls",
       "_view_module_version": "1.5.0",
       "_view_name": "HTMLView",
       "description": "",
       "description_tooltip": null,
       "layout": "IPY_MODEL_e49a1d5e27be484e966a4e2e8bbd5eba",
       "placeholder": "​",
       "style": "IPY_MODEL_3899796454df42e280e8c9e05a3aba75",
       "value": " 1.71G/1.71G [00:43&lt;00:00, 40.8MB/s]"
      }
     },
     "706949c3d4da49d48384df24fa92360c": {
      "model_module": "@jupyter-widgets/controls",
      "model_module_version": "1.5.0",
      "model_name": "FloatProgressModel",
      "state": {
       "_dom_classes": [],
       "_model_module": "@jupyter-widgets/controls",
       "_model_module_version": "1.5.0",
       "_model_name": "FloatProgressModel",
       "_view_count": null,
       "_view_module": "@jupyter-widgets/controls",
       "_view_module_version": "1.5.0",
       "_view_name": "ProgressView",
       "bar_style": "success",
       "description": "",
       "description_tooltip": null,
       "layout": "IPY_MODEL_6914034a13fe4bb89e443372bd37a1c6",
       "max": 1711114176.0,
       "min": 0.0,
       "orientation": "horizontal",
       "style": "IPY_MODEL_31046ac3593741f1aac1139c1f3026f0",
       "value": 1711114176.0
      }
     },
     "7dd84b1f801e4515aefea0732cb14102": {
      "model_module": "@jupyter-widgets/controls",
      "model_module_version": "1.5.0",
      "model_name": "HTMLModel",
      "state": {
       "_dom_classes": [],
       "_model_module": "@jupyter-widgets/controls",
       "_model_module_version": "1.5.0",
       "_model_name": "HTMLModel",
       "_view_count": null,
       "_view_module": "@jupyter-widgets/controls",
       "_view_module_version": "1.5.0",
       "_view_name": "HTMLView",
       "description": "",
       "description_tooltip": null,
       "layout": "IPY_MODEL_5401284035be4273bc595cf0ecacaefa",
       "placeholder": "​",
       "style": "IPY_MODEL_ce445e20296543489079c36dacc475f8",
       "value": ""
      }
     },
     "83f60d19c2fc482081f072bab0a2e229": {
      "model_module": "@jupyter-widgets/controls",
      "model_module_version": "1.5.0",
      "model_name": "HTMLModel",
      "state": {
       "_dom_classes": [],
       "_model_module": "@jupyter-widgets/controls",
       "_model_module_version": "1.5.0",
       "_model_name": "HTMLModel",
       "_view_count": null,
       "_view_module": "@jupyter-widgets/controls",
       "_view_module_version": "1.5.0",
       "_view_name": "HTMLView",
       "description": "",
       "description_tooltip": null,
       "layout": "IPY_MODEL_0830754e76444be9baf370b49263bf82",
       "placeholder": "​",
       "style": "IPY_MODEL_90010eebbdee4fe899107e6c866f3998",
       "value": "Downloading: 100%"
      }
     },
     "865ae09b90a045e2be866af74fe0842a": {
      "model_module": "@jupyter-widgets/controls",
      "model_module_version": "1.5.0",
      "model_name": "DescriptionStyleModel",
      "state": {
       "_model_module": "@jupyter-widgets/controls",
       "_model_module_version": "1.5.0",
       "_model_name": "DescriptionStyleModel",
       "_view_count": null,
       "_view_module": "@jupyter-widgets/base",
       "_view_module_version": "1.2.0",
       "_view_name": "StyleView",
       "description_width": ""
      }
     },
     "88674434c6924b6197187d1c2f2808cb": {
      "model_module": "@jupyter-widgets/base",
      "model_module_version": "1.2.0",
      "model_name": "LayoutModel",
      "state": {
       "_model_module": "@jupyter-widgets/base",
       "_model_module_version": "1.2.0",
       "_model_name": "LayoutModel",
       "_view_count": null,
       "_view_module": "@jupyter-widgets/base",
       "_view_module_version": "1.2.0",
       "_view_name": "LayoutView",
       "align_content": null,
       "align_items": null,
       "align_self": null,
       "border": null,
       "bottom": null,
       "display": null,
       "flex": null,
       "flex_flow": null,
       "grid_area": null,
       "grid_auto_columns": null,
       "grid_auto_flow": null,
       "grid_auto_rows": null,
       "grid_column": null,
       "grid_gap": null,
       "grid_row": null,
       "grid_template_areas": null,
       "grid_template_columns": null,
       "grid_template_rows": null,
       "height": null,
       "justify_content": null,
       "justify_items": null,
       "left": null,
       "margin": null,
       "max_height": null,
       "max_width": null,
       "min_height": null,
       "min_width": null,
       "object_fit": null,
       "object_position": null,
       "order": null,
       "overflow": null,
       "overflow_x": null,
       "overflow_y": null,
       "padding": null,
       "right": null,
       "top": null,
       "visibility": null,
       "width": null
      }
     },
     "90010eebbdee4fe899107e6c866f3998": {
      "model_module": "@jupyter-widgets/controls",
      "model_module_version": "1.5.0",
      "model_name": "DescriptionStyleModel",
      "state": {
       "_model_module": "@jupyter-widgets/controls",
       "_model_module_version": "1.5.0",
       "_model_name": "DescriptionStyleModel",
       "_view_count": null,
       "_view_module": "@jupyter-widgets/base",
       "_view_module_version": "1.2.0",
       "_view_name": "StyleView",
       "description_width": ""
      }
     },
     "90c1be877c1746909b18d439b964db69": {
      "model_module": "@jupyter-widgets/controls",
      "model_module_version": "1.5.0",
      "model_name": "HTMLModel",
      "state": {
       "_dom_classes": [],
       "_model_module": "@jupyter-widgets/controls",
       "_model_module_version": "1.5.0",
       "_model_name": "HTMLModel",
       "_view_count": null,
       "_view_module": "@jupyter-widgets/controls",
       "_view_module_version": "1.5.0",
       "_view_name": "HTMLView",
       "description": "",
       "description_tooltip": null,
       "layout": "IPY_MODEL_d1be11cc8d46454999a71e79c5fc3326",
       "placeholder": "​",
       "style": "IPY_MODEL_4e59e4d0de5349d4a3f0fa7645446dd2",
       "value": "Downloading: 100%"
      }
     },
     "9a3e4550a1854c82b551cd3c8926f415": {
      "model_module": "@jupyter-widgets/base",
      "model_module_version": "1.2.0",
      "model_name": "LayoutModel",
      "state": {
       "_model_module": "@jupyter-widgets/base",
       "_model_module_version": "1.2.0",
       "_model_name": "LayoutModel",
       "_view_count": null,
       "_view_module": "@jupyter-widgets/base",
       "_view_module_version": "1.2.0",
       "_view_name": "LayoutView",
       "align_content": null,
       "align_items": null,
       "align_self": null,
       "border": null,
       "bottom": null,
       "display": null,
       "flex": null,
       "flex_flow": null,
       "grid_area": null,
       "grid_auto_columns": null,
       "grid_auto_flow": null,
       "grid_auto_rows": null,
       "grid_column": null,
       "grid_gap": null,
       "grid_row": null,
       "grid_template_areas": null,
       "grid_template_columns": null,
       "grid_template_rows": null,
       "height": null,
       "justify_content": null,
       "justify_items": null,
       "left": null,
       "margin": null,
       "max_height": null,
       "max_width": null,
       "min_height": null,
       "min_width": null,
       "object_fit": null,
       "object_position": null,
       "order": null,
       "overflow": null,
       "overflow_x": null,
       "overflow_y": null,
       "padding": null,
       "right": null,
       "top": null,
       "visibility": null,
       "width": null
      }
     },
     "a249948c851142bd8ec7a2c810cebfa8": {
      "model_module": "@jupyter-widgets/controls",
      "model_module_version": "1.5.0",
      "model_name": "FloatProgressModel",
      "state": {
       "_dom_classes": [],
       "_model_module": "@jupyter-widgets/controls",
       "_model_module_version": "1.5.0",
       "_model_name": "FloatProgressModel",
       "_view_count": null,
       "_view_module": "@jupyter-widgets/controls",
       "_view_module_version": "1.5.0",
       "_view_name": "ProgressView",
       "bar_style": "success",
       "description": "",
       "description_tooltip": null,
       "layout": "IPY_MODEL_d8e35f8b2d794fa0a4400776a6e099b9",
       "max": 1.0,
       "min": 0.0,
       "orientation": "horizontal",
       "style": "IPY_MODEL_4bf6b9bba43e42b48247301398688228",
       "value": 0.0
      }
     },
     "a2a7747715b1404a852b916a618d7984": {
      "model_module": "@jupyter-widgets/controls",
      "model_module_version": "1.5.0",
      "model_name": "HTMLModel",
      "state": {
       "_dom_classes": [],
       "_model_module": "@jupyter-widgets/controls",
       "_model_module_version": "1.5.0",
       "_model_name": "HTMLModel",
       "_view_count": null,
       "_view_module": "@jupyter-widgets/controls",
       "_view_module_version": "1.5.0",
       "_view_name": "HTMLView",
       "description": "",
       "description_tooltip": null,
       "layout": "IPY_MODEL_9a3e4550a1854c82b551cd3c8926f415",
       "placeholder": "​",
       "style": "IPY_MODEL_ee8a02ea45f1410484fea8268718c493",
       "value": " 4.52k/4.52k [00:00&lt;00:00, 178kB/s]"
      }
     },
     "a3aecdd4f65b41e0b4d7fd96792fd537": {
      "model_module": "@jupyter-widgets/controls",
      "model_module_version": "1.5.0",
      "model_name": "HTMLModel",
      "state": {
       "_dom_classes": [],
       "_model_module": "@jupyter-widgets/controls",
       "_model_module_version": "1.5.0",
       "_model_name": "HTMLModel",
       "_view_count": null,
       "_view_module": "@jupyter-widgets/controls",
       "_view_module_version": "1.5.0",
       "_view_name": "HTMLView",
       "description": "",
       "description_tooltip": null,
       "layout": "IPY_MODEL_e3e5fa30f1044def85e99da9ae6da956",
       "placeholder": "​",
       "style": "IPY_MODEL_865ae09b90a045e2be866af74fe0842a",
       "value": " 0/0 [00:00&lt;?, ?it/s]"
      }
     },
     "ae65eb49718243cc8eed730d802290ad": {
      "model_module": "@jupyter-widgets/controls",
      "model_module_version": "1.5.0",
      "model_name": "FloatProgressModel",
      "state": {
       "_dom_classes": [],
       "_model_module": "@jupyter-widgets/controls",
       "_model_module_version": "1.5.0",
       "_model_name": "FloatProgressModel",
       "_view_count": null,
       "_view_module": "@jupyter-widgets/controls",
       "_view_module_version": "1.5.0",
       "_view_name": "ProgressView",
       "bar_style": "success",
       "description": "",
       "description_tooltip": null,
       "layout": "IPY_MODEL_09336fbe94f748ecab56c44231d31e22",
       "max": 4519.0,
       "min": 0.0,
       "orientation": "horizontal",
       "style": "IPY_MODEL_6d844dd37a73474b98c26396aa1fcf55",
       "value": 4519.0
      }
     },
     "ce445e20296543489079c36dacc475f8": {
      "model_module": "@jupyter-widgets/controls",
      "model_module_version": "1.5.0",
      "model_name": "DescriptionStyleModel",
      "state": {
       "_model_module": "@jupyter-widgets/controls",
       "_model_module_version": "1.5.0",
       "_model_name": "DescriptionStyleModel",
       "_view_count": null,
       "_view_module": "@jupyter-widgets/base",
       "_view_module_version": "1.2.0",
       "_view_name": "StyleView",
       "description_width": ""
      }
     },
     "d081e2ff3052439696cbd25f55e8627c": {
      "model_module": "@jupyter-widgets/controls",
      "model_module_version": "1.5.0",
      "model_name": "HBoxModel",
      "state": {
       "_dom_classes": [],
       "_model_module": "@jupyter-widgets/controls",
       "_model_module_version": "1.5.0",
       "_model_name": "HBoxModel",
       "_view_count": null,
       "_view_module": "@jupyter-widgets/controls",
       "_view_module_version": "1.5.0",
       "_view_name": "HBoxView",
       "box_style": "",
       "children": [
        "IPY_MODEL_90c1be877c1746909b18d439b964db69",
        "IPY_MODEL_ae65eb49718243cc8eed730d802290ad",
        "IPY_MODEL_a2a7747715b1404a852b916a618d7984"
       ],
       "layout": "IPY_MODEL_20fbfda8b4bd44b08eeee929bbe75ea1"
      }
     },
     "d1be11cc8d46454999a71e79c5fc3326": {
      "model_module": "@jupyter-widgets/base",
      "model_module_version": "1.2.0",
      "model_name": "LayoutModel",
      "state": {
       "_model_module": "@jupyter-widgets/base",
       "_model_module_version": "1.2.0",
       "_model_name": "LayoutModel",
       "_view_count": null,
       "_view_module": "@jupyter-widgets/base",
       "_view_module_version": "1.2.0",
       "_view_name": "LayoutView",
       "align_content": null,
       "align_items": null,
       "align_self": null,
       "border": null,
       "bottom": null,
       "display": null,
       "flex": null,
       "flex_flow": null,
       "grid_area": null,
       "grid_auto_columns": null,
       "grid_auto_flow": null,
       "grid_auto_rows": null,
       "grid_column": null,
       "grid_gap": null,
       "grid_row": null,
       "grid_template_areas": null,
       "grid_template_columns": null,
       "grid_template_rows": null,
       "height": null,
       "justify_content": null,
       "justify_items": null,
       "left": null,
       "margin": null,
       "max_height": null,
       "max_width": null,
       "min_height": null,
       "min_width": null,
       "object_fit": null,
       "object_position": null,
       "order": null,
       "overflow": null,
       "overflow_x": null,
       "overflow_y": null,
       "padding": null,
       "right": null,
       "top": null,
       "visibility": null,
       "width": null
      }
     },
     "d8e35f8b2d794fa0a4400776a6e099b9": {
      "model_module": "@jupyter-widgets/base",
      "model_module_version": "1.2.0",
      "model_name": "LayoutModel",
      "state": {
       "_model_module": "@jupyter-widgets/base",
       "_model_module_version": "1.2.0",
       "_model_name": "LayoutModel",
       "_view_count": null,
       "_view_module": "@jupyter-widgets/base",
       "_view_module_version": "1.2.0",
       "_view_name": "LayoutView",
       "align_content": null,
       "align_items": null,
       "align_self": null,
       "border": null,
       "bottom": null,
       "display": null,
       "flex": null,
       "flex_flow": null,
       "grid_area": null,
       "grid_auto_columns": null,
       "grid_auto_flow": null,
       "grid_auto_rows": null,
       "grid_column": null,
       "grid_gap": null,
       "grid_row": null,
       "grid_template_areas": null,
       "grid_template_columns": null,
       "grid_template_rows": null,
       "height": null,
       "justify_content": null,
       "justify_items": null,
       "left": null,
       "margin": null,
       "max_height": null,
       "max_width": null,
       "min_height": null,
       "min_width": null,
       "object_fit": null,
       "object_position": null,
       "order": null,
       "overflow": null,
       "overflow_x": null,
       "overflow_y": null,
       "padding": null,
       "right": null,
       "top": null,
       "visibility": null,
       "width": "20px"
      }
     },
     "e3e5fa30f1044def85e99da9ae6da956": {
      "model_module": "@jupyter-widgets/base",
      "model_module_version": "1.2.0",
      "model_name": "LayoutModel",
      "state": {
       "_model_module": "@jupyter-widgets/base",
       "_model_module_version": "1.2.0",
       "_model_name": "LayoutModel",
       "_view_count": null,
       "_view_module": "@jupyter-widgets/base",
       "_view_module_version": "1.2.0",
       "_view_name": "LayoutView",
       "align_content": null,
       "align_items": null,
       "align_self": null,
       "border": null,
       "bottom": null,
       "display": null,
       "flex": null,
       "flex_flow": null,
       "grid_area": null,
       "grid_auto_columns": null,
       "grid_auto_flow": null,
       "grid_auto_rows": null,
       "grid_column": null,
       "grid_gap": null,
       "grid_row": null,
       "grid_template_areas": null,
       "grid_template_columns": null,
       "grid_template_rows": null,
       "height": null,
       "justify_content": null,
       "justify_items": null,
       "left": null,
       "margin": null,
       "max_height": null,
       "max_width": null,
       "min_height": null,
       "min_width": null,
       "object_fit": null,
       "object_position": null,
       "order": null,
       "overflow": null,
       "overflow_x": null,
       "overflow_y": null,
       "padding": null,
       "right": null,
       "top": null,
       "visibility": null,
       "width": null
      }
     },
     "e49a1d5e27be484e966a4e2e8bbd5eba": {
      "model_module": "@jupyter-widgets/base",
      "model_module_version": "1.2.0",
      "model_name": "LayoutModel",
      "state": {
       "_model_module": "@jupyter-widgets/base",
       "_model_module_version": "1.2.0",
       "_model_name": "LayoutModel",
       "_view_count": null,
       "_view_module": "@jupyter-widgets/base",
       "_view_module_version": "1.2.0",
       "_view_name": "LayoutView",
       "align_content": null,
       "align_items": null,
       "align_self": null,
       "border": null,
       "bottom": null,
       "display": null,
       "flex": null,
       "flex_flow": null,
       "grid_area": null,
       "grid_auto_columns": null,
       "grid_auto_flow": null,
       "grid_auto_rows": null,
       "grid_column": null,
       "grid_gap": null,
       "grid_row": null,
       "grid_template_areas": null,
       "grid_template_columns": null,
       "grid_template_rows": null,
       "height": null,
       "justify_content": null,
       "justify_items": null,
       "left": null,
       "margin": null,
       "max_height": null,
       "max_width": null,
       "min_height": null,
       "min_width": null,
       "object_fit": null,
       "object_position": null,
       "order": null,
       "overflow": null,
       "overflow_x": null,
       "overflow_y": null,
       "padding": null,
       "right": null,
       "top": null,
       "visibility": null,
       "width": null
      }
     },
     "ee8a02ea45f1410484fea8268718c493": {
      "model_module": "@jupyter-widgets/controls",
      "model_module_version": "1.5.0",
      "model_name": "DescriptionStyleModel",
      "state": {
       "_model_module": "@jupyter-widgets/controls",
       "_model_module_version": "1.5.0",
       "_model_name": "DescriptionStyleModel",
       "_view_count": null,
       "_view_module": "@jupyter-widgets/base",
       "_view_module_version": "1.2.0",
       "_view_name": "StyleView",
       "description_width": ""
      }
     }
    },
    "version_major": 2,
    "version_minor": 0
   }
  }
 },
 "nbformat": 4,
 "nbformat_minor": 5
}
